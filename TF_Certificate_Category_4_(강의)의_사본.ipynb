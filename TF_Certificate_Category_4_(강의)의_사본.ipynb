{
  "nbformat": 4,
  "nbformat_minor": 0,
  "metadata": {
    "accelerator": "GPU",
    "colab": {
      "provenance": [],
      "include_colab_link": true
    },
    "kernelspec": {
      "display_name": "Python 3",
      "language": "python",
      "name": "python3"
    },
    "language_info": {
      "codemirror_mode": {
        "name": "ipython",
        "version": 3
      },
      "file_extension": ".py",
      "mimetype": "text/x-python",
      "name": "python",
      "nbconvert_exporter": "python",
      "pygments_lexer": "ipython3",
      "version": "3.6.6"
    }
  },
  "cells": [
    {
      "cell_type": "markdown",
      "metadata": {
        "id": "view-in-github",
        "colab_type": "text"
      },
      "source": [
        "<a href=\"https://colab.research.google.com/github/Henrykim1111/tensorflow-developer-certificate/blob/main/TF_Certificate_Category_4_(%EA%B0%95%EC%9D%98)%EC%9D%98_%EC%82%AC%EB%B3%B8.ipynb\" target=\"_parent\"><img src=\"https://colab.research.google.com/assets/colab-badge.svg\" alt=\"Open In Colab\"/></a>"
      ]
    },
    {
      "cell_type": "markdown",
      "metadata": {
        "id": "sCmtzkeGPI2Q"
      },
      "source": [
        "# Category 4\n",
        "\n",
        "RNN 을 활용한 텍스트 분류 (Text Classification)"
      ]
    },
    {
      "cell_type": "markdown",
      "metadata": {
        "id": "iRSKbgK8PRs5"
      },
      "source": [
        "## 확인"
      ]
    },
    {
      "cell_type": "markdown",
      "metadata": {
        "id": "Fc4QcKvRPSj-"
      },
      "source": [
        "1. GPU 옵션 켜져 있는지 확인할 것!!! (수정 - 노트설정 - 하드웨어설정 (GPU))"
      ]
    },
    {
      "cell_type": "markdown",
      "metadata": {
        "id": "JNPjnA62PXVn"
      },
      "source": [
        "## 순서"
      ]
    },
    {
      "cell_type": "markdown",
      "metadata": {
        "id": "T463L0aPPX_n"
      },
      "source": [
        "1. **import**: 필요한 모듈 import\n",
        "2. **전처리**: 학습에 필요한 데이터 전처리를 수행합니다.\n",
        "3. **모델링(model)**: 모델을 정의합니다.\n",
        "4. **컴파일(compile)**: 모델을 생성합니다.\n",
        "5. **학습 (fit)**: 모델을 학습시킵니다."
      ]
    },
    {
      "cell_type": "markdown",
      "metadata": {
        "id": "W1Hj9c1NPbPu"
      },
      "source": [
        "## 문제"
      ]
    },
    {
      "cell_type": "markdown",
      "metadata": {
        "id": "RcvEYUuhPb3f"
      },
      "source": [
        "NLP QUESTION\n",
        "\n",
        "For this task you will build a classifier for the sarcasm dataset\n",
        "The classifier should have a final layer with 1 neuron activated by sigmoid as shown.<br/><br/>\n",
        "It will be tested against a number of sentences that the network hasn't previously seen<br/>\n",
        "And you will be scored on whether sarcasm was correctly detected in those sentences\n",
        "\n",
        "\n",
        "-------------------------------\n",
        "**자연어 처리**<br/><br/>\n",
        "이 작업에서는 sarcasm 데이터 세트에 대한 분류기를 작성합니다.\n",
        "분류기는 1 개의 뉴런으로 이루어진 sigmoid 활성함수로 구성된 최종 층을 가져야합니다.<br/>\n",
        "제출될 모델은 데이터셋이 없는 여러 문장에 대해 테스트됩니다.\n",
        "그리고 당신은 그 문장에서 sarcasm 판별이 제대로 감지되었는지에 따라 점수를 받게 될 것입니다\n"
      ]
    },
    {
      "cell_type": "markdown",
      "metadata": {
        "id": "7C3ewm9XQHgr"
      },
      "source": [
        "-----------------------------------\n"
      ]
    },
    {
      "cell_type": "markdown",
      "metadata": {
        "id": "YE_gqvyN3Ato"
      },
      "source": [
        "## 필요한 모듈 import"
      ]
    },
    {
      "cell_type": "code",
      "metadata": {
        "id": "HKMbpxX8Ro-h"
      },
      "source": [
        "import json\n",
        "import tensorflow as tf\n",
        "import numpy as np\n",
        "import urllib\n",
        "\n",
        "from tensorflow.keras.preprocessing.text import Tokenizer\n",
        "from tensorflow.keras.preprocessing.sequence import pad_sequences\n",
        "from tensorflow.keras.layers import Embedding, LSTM, Dense, Bidirectional, Flatten\n",
        "from tensorflow.keras.models import Sequential\n",
        "from tensorflow.keras.callbacks import ModelCheckpoint"
      ],
      "execution_count": 1,
      "outputs": []
    },
    {
      "cell_type": "markdown",
      "metadata": {
        "id": "wEf5XJJE38vl"
      },
      "source": [
        "## 필요한 데이터 셋 다운로드"
      ]
    },
    {
      "cell_type": "code",
      "metadata": {
        "id": "7FLOv_TrRo-m",
        "colab": {
          "base_uri": "https://localhost:8080/"
        },
        "outputId": "c79f8138-8805-45d7-d62f-28c32e844ad7"
      },
      "source": [
        "url = 'https://storage.googleapis.com/download.tensorflow.org/data/sarcasm.json'\n",
        "urllib.request.urlretrieve(url, 'sarcasm.json')"
      ],
      "execution_count": 2,
      "outputs": [
        {
          "output_type": "execute_result",
          "data": {
            "text/plain": [
              "('sarcasm.json', <http.client.HTTPMessage at 0x7cb675577370>)"
            ]
          },
          "metadata": {},
          "execution_count": 2
        }
      ]
    },
    {
      "cell_type": "markdown",
      "metadata": {
        "id": "EXNFkRYERo-u"
      },
      "source": [
        "## Json 파일 로드"
      ]
    },
    {
      "cell_type": "markdown",
      "metadata": {
        "id": "5vTO4qdw5rUh"
      },
      "source": [
        "`datas` 변수에 `json`을 활용하여 로드"
      ]
    },
    {
      "cell_type": "code",
      "metadata": {
        "id": "yBg4ZmnKRo-v"
      },
      "source": [
        "with open('sarcasm.json') as f:\n",
        "    datas = json.load(f)"
      ],
      "execution_count": 3,
      "outputs": []
    },
    {
      "cell_type": "markdown",
      "metadata": {
        "id": "bI31En1o5p7R"
      },
      "source": [
        "`datas` 5개  출력\n",
        "\n",
        "* `article_link`: 뉴스 기사 URL\n",
        "* `headline`: 뉴스기사의 제목\n",
        "* `is_sarcastic`: 비꼬는 기사 여부 (비꼼: 1, 일반: 0)"
      ]
    },
    {
      "cell_type": "code",
      "metadata": {
        "id": "Ylqxc8fcRo-0",
        "colab": {
          "base_uri": "https://localhost:8080/"
        },
        "outputId": "6b8eed68-6678-404c-ef97-73b5c33230da"
      },
      "source": [
        "datas[:5]"
      ],
      "execution_count": 4,
      "outputs": [
        {
          "output_type": "execute_result",
          "data": {
            "text/plain": [
              "[{'article_link': 'https://www.huffingtonpost.com/entry/versace-black-code_us_5861fbefe4b0de3a08f600d5',\n",
              "  'headline': \"former versace store clerk sues over secret 'black code' for minority shoppers\",\n",
              "  'is_sarcastic': 0},\n",
              " {'article_link': 'https://www.huffingtonpost.com/entry/roseanne-revival-review_us_5ab3a497e4b054d118e04365',\n",
              "  'headline': \"the 'roseanne' revival catches up to our thorny political mood, for better and worse\",\n",
              "  'is_sarcastic': 0},\n",
              " {'article_link': 'https://local.theonion.com/mom-starting-to-fear-son-s-web-series-closest-thing-she-1819576697',\n",
              "  'headline': \"mom starting to fear son's web series closest thing she will have to grandchild\",\n",
              "  'is_sarcastic': 1},\n",
              " {'article_link': 'https://politics.theonion.com/boehner-just-wants-wife-to-listen-not-come-up-with-alt-1819574302',\n",
              "  'headline': 'boehner just wants wife to listen, not come up with alternative debt-reduction ideas',\n",
              "  'is_sarcastic': 1},\n",
              " {'article_link': 'https://www.huffingtonpost.com/entry/jk-rowling-wishes-snape-happy-birthday_us_569117c4e4b0cad15e64fdcb',\n",
              "  'headline': 'j.k. rowling wishes snape happy birthday in the most magical way',\n",
              "  'is_sarcastic': 0}]"
            ]
          },
          "metadata": {},
          "execution_count": 4
        }
      ]
    },
    {
      "cell_type": "markdown",
      "metadata": {
        "id": "M2JA-GrVRo-4"
      },
      "source": [
        "## 전처리: 데이터셋 구성(sentences, labels)"
      ]
    },
    {
      "cell_type": "markdown",
      "metadata": {
        "id": "kes4D7Q-7r1n"
      },
      "source": [
        "* X (Feature): sentences\n",
        "* Y (Label): label"
      ]
    },
    {
      "cell_type": "markdown",
      "metadata": {
        "id": "Rrr_slKl8CMl"
      },
      "source": [
        "빈 list를 생성합니다. (sentences, labels)"
      ]
    },
    {
      "cell_type": "code",
      "metadata": {
        "id": "zgUxM1Rh7_-t"
      },
      "source": [
        "sentences = []\n",
        "labels = []"
      ],
      "execution_count": 5,
      "outputs": []
    },
    {
      "cell_type": "code",
      "metadata": {
        "id": "evOur3s7Ro_G"
      },
      "source": [
        "for data in datas:\n",
        "    sentences.append(data['headline'])\n",
        "    labels.append(data['is_sarcastic'])"
      ],
      "execution_count": 6,
      "outputs": []
    },
    {
      "cell_type": "markdown",
      "metadata": {
        "id": "ehP3G-b18Sgx"
      },
      "source": [
        "문장 5개를 출력합니다."
      ]
    },
    {
      "cell_type": "code",
      "metadata": {
        "id": "QxkCHeN-Ro_J",
        "colab": {
          "base_uri": "https://localhost:8080/"
        },
        "outputId": "2e28ba67-abc7-421b-f1b7-ffc006657feb"
      },
      "source": [
        "sentences[:5]"
      ],
      "execution_count": 7,
      "outputs": [
        {
          "output_type": "execute_result",
          "data": {
            "text/plain": [
              "[\"former versace store clerk sues over secret 'black code' for minority shoppers\",\n",
              " \"the 'roseanne' revival catches up to our thorny political mood, for better and worse\",\n",
              " \"mom starting to fear son's web series closest thing she will have to grandchild\",\n",
              " 'boehner just wants wife to listen, not come up with alternative debt-reduction ideas',\n",
              " 'j.k. rowling wishes snape happy birthday in the most magical way']"
            ]
          },
          "metadata": {},
          "execution_count": 7
        }
      ]
    },
    {
      "cell_type": "code",
      "metadata": {
        "id": "7AFuC-5eRo_N",
        "colab": {
          "base_uri": "https://localhost:8080/"
        },
        "outputId": "83c1e871-ed73-46c3-bc5c-b75c1c10df7d"
      },
      "source": [
        "labels[:5]"
      ],
      "execution_count": 8,
      "outputs": [
        {
          "output_type": "execute_result",
          "data": {
            "text/plain": [
              "[0, 0, 1, 1, 0]"
            ]
          },
          "metadata": {},
          "execution_count": 8
        }
      ]
    },
    {
      "cell_type": "markdown",
      "metadata": {
        "id": "kV-gws0ZIDT5"
      },
      "source": [
        "## Train / Validation Set 분리"
      ]
    },
    {
      "cell_type": "markdown",
      "metadata": {
        "id": "7ui0tLP38ziX"
      },
      "source": [
        "20,000개를 기준으로 **데이터셋을 분리**합니다.\n"
      ]
    },
    {
      "cell_type": "code",
      "metadata": {
        "id": "AP_9RTOFIDT7"
      },
      "source": [
        "training_size = 20000"
      ],
      "execution_count": 9,
      "outputs": []
    },
    {
      "cell_type": "code",
      "metadata": {
        "id": "QbKerNkAIDUC"
      },
      "source": [
        "train_sentences = sentences[:training_size]\n",
        "train_labels = labels[:training_size]"
      ],
      "execution_count": 10,
      "outputs": []
    },
    {
      "cell_type": "code",
      "metadata": {
        "id": "VUv12RFJIDUJ"
      },
      "source": [
        "validation_sentences = sentences[training_size:]\n",
        "validation_labels = labels[training_size:]"
      ],
      "execution_count": 11,
      "outputs": []
    },
    {
      "cell_type": "markdown",
      "metadata": {
        "id": "CEXyUrNHRo_S"
      },
      "source": [
        "## 전처리 Step 1. Tokenizer 정의"
      ]
    },
    {
      "cell_type": "markdown",
      "metadata": {
        "id": "5bgjblALRo_c"
      },
      "source": [
        "단어의 토큰화를 진행합니다.\n",
        "\n",
        "* `num_words`: 단어 max 사이즈를 지정합니다. 가장 **빈도수가 높은** 단어부터 저장합니다.\n",
        "* `oov_token`: 단어 토큰에 없는 단어를 어떻게 표기할 것인지 지정해줍니다."
      ]
    },
    {
      "cell_type": "code",
      "metadata": {
        "id": "CyHzPmsg9aWS"
      },
      "source": [
        "vocab_size = 1000\n",
        "oov_tok = \"<OOV>\""
      ],
      "execution_count": 12,
      "outputs": []
    },
    {
      "cell_type": "code",
      "metadata": {
        "id": "ORwBwbVIRo_d"
      },
      "source": [
        "tokenizer = Tokenizer(num_words=vocab_size, oov_token='<OOV>')"
      ],
      "execution_count": 13,
      "outputs": []
    },
    {
      "cell_type": "markdown",
      "metadata": {
        "id": "5c6Nqj8YRo_g"
      },
      "source": [
        "## 전처리 Step 2. Tokenizer로 학습시킬 문장에 대한 토큰화 진행"
      ]
    },
    {
      "cell_type": "markdown",
      "metadata": {
        "id": "oWptwIFq-B9B"
      },
      "source": [
        "`fit_on_texts`로 학습할 문장에 대하여 **토큰화**를 진행합니다."
      ]
    },
    {
      "cell_type": "code",
      "metadata": {
        "id": "mWZFZUFNRo_h"
      },
      "source": [
        "tokenizer.fit_on_texts(train_sentences)"
      ],
      "execution_count": 14,
      "outputs": []
    },
    {
      "cell_type": "code",
      "metadata": {
        "id": "_2ZPQndyRo_k",
        "colab": {
          "base_uri": "https://localhost:8080/"
        },
        "outputId": "8d9de8c3-5f9d-4336-dedd-96932d875515"
      },
      "source": [
        "for key, value in tokenizer.word_index.items():\n",
        "    print('{}  \\t======>\\t {}'.format(key, value))\n",
        "    if value == 25:\n",
        "        break"
      ],
      "execution_count": 15,
      "outputs": [
        {
          "output_type": "stream",
          "name": "stdout",
          "text": [
            "<OOV>  \t======>\t 1\n",
            "to  \t======>\t 2\n",
            "of  \t======>\t 3\n",
            "the  \t======>\t 4\n",
            "in  \t======>\t 5\n",
            "for  \t======>\t 6\n",
            "a  \t======>\t 7\n",
            "on  \t======>\t 8\n",
            "and  \t======>\t 9\n",
            "with  \t======>\t 10\n",
            "is  \t======>\t 11\n",
            "new  \t======>\t 12\n",
            "trump  \t======>\t 13\n",
            "man  \t======>\t 14\n",
            "from  \t======>\t 15\n",
            "at  \t======>\t 16\n",
            "about  \t======>\t 17\n",
            "you  \t======>\t 18\n",
            "by  \t======>\t 19\n",
            "this  \t======>\t 20\n",
            "after  \t======>\t 21\n",
            "be  \t======>\t 22\n",
            "up  \t======>\t 23\n",
            "out  \t======>\t 24\n",
            "that  \t======>\t 25\n"
          ]
        }
      ]
    },
    {
      "cell_type": "markdown",
      "metadata": {
        "id": "Proj_AWp-Lsm"
      },
      "source": [
        "토큰화된 **단어 사전의 갯수**"
      ]
    },
    {
      "cell_type": "code",
      "metadata": {
        "id": "Rufbtj6aRo_n",
        "colab": {
          "base_uri": "https://localhost:8080/"
        },
        "outputId": "6e7dee4d-0c54-4628-a012-f0fd021c3d32"
      },
      "source": [
        "len(tokenizer.word_index)"
      ],
      "execution_count": 16,
      "outputs": [
        {
          "output_type": "execute_result",
          "data": {
            "text/plain": [
              "25637"
            ]
          },
          "metadata": {},
          "execution_count": 16
        }
      ]
    },
    {
      "cell_type": "markdown",
      "metadata": {
        "id": "PFaPeh05-iZQ"
      },
      "source": [
        "단어사전은 **dictionary** 형태로 되어 있습니다.\n",
        "\n",
        "즉, 단어를 key로 입력하면 값을 return 합니다."
      ]
    },
    {
      "cell_type": "code",
      "metadata": {
        "id": "sxvQwbfVA_fk"
      },
      "source": [
        "word_index = tokenizer.word_index"
      ],
      "execution_count": 17,
      "outputs": []
    },
    {
      "cell_type": "code",
      "metadata": {
        "id": "GleJUaox-dHk",
        "colab": {
          "base_uri": "https://localhost:8080/"
        },
        "outputId": "9a9afa00-64fd-47e7-f707-350dc2e57c22"
      },
      "source": [
        "word_index['trump']"
      ],
      "execution_count": 18,
      "outputs": [
        {
          "output_type": "execute_result",
          "data": {
            "text/plain": [
              "13"
            ]
          },
          "metadata": {},
          "execution_count": 18
        }
      ]
    },
    {
      "cell_type": "code",
      "metadata": {
        "id": "W23IUjuNRo_s",
        "colab": {
          "base_uri": "https://localhost:8080/"
        },
        "outputId": "0ad9006f-01d9-4d91-800b-3299278d5545"
      },
      "source": [
        "word_index['hello']"
      ],
      "execution_count": 19,
      "outputs": [
        {
          "output_type": "execute_result",
          "data": {
            "text/plain": [
              "11724"
            ]
          },
          "metadata": {},
          "execution_count": 19
        }
      ]
    },
    {
      "cell_type": "code",
      "metadata": {
        "id": "nMwedFRm-Y9L",
        "colab": {
          "base_uri": "https://localhost:8080/"
        },
        "outputId": "7dd2f2ab-db34-4951-e2f3-494e90bf8815"
      },
      "source": [
        "word_index['<OOV>']"
      ],
      "execution_count": 20,
      "outputs": [
        {
          "output_type": "execute_result",
          "data": {
            "text/plain": [
              "1"
            ]
          },
          "metadata": {},
          "execution_count": 20
        }
      ]
    },
    {
      "cell_type": "markdown",
      "metadata": {
        "id": "ozaMIfx_Ro_4"
      },
      "source": [
        "## 전처리 Step 3. 문장(sentences)을 토큰으로 변경 (치환)"
      ]
    },
    {
      "cell_type": "markdown",
      "metadata": {
        "id": "cNqh5HgMAcKW"
      },
      "source": [
        "`texts_to_sequences`: 문장을 숫자로 **치환** 합니다. Train Set, Valid Set 모두 별도로 적용해주어야 합니다."
      ]
    },
    {
      "cell_type": "code",
      "metadata": {
        "id": "bYNXTtTIRo_5"
      },
      "source": [
        "train_sequences = tokenizer.texts_to_sequences(train_sentences)\n",
        "validation_sequences = tokenizer.texts_to_sequences(validation_sentences)"
      ],
      "execution_count": null,
      "outputs": []
    },
    {
      "cell_type": "markdown",
      "metadata": {
        "id": "weKqGE4DAolj"
      },
      "source": [
        "**변환된 Sequences 확인**"
      ]
    },
    {
      "cell_type": "code",
      "metadata": {
        "id": "CKH_vITVRo_8"
      },
      "source": [
        "train_sequences[:5]"
      ],
      "execution_count": null,
      "outputs": []
    },
    {
      "cell_type": "markdown",
      "metadata": {
        "id": "LEgW25CNRpAB"
      },
      "source": [
        "변환 과정에서 '<OOV>'로 **변환된 단어** 확인"
      ]
    },
    {
      "cell_type": "markdown",
      "metadata": {
        "id": "PgP_i2wHBScf"
      },
      "source": [
        "빈도수로 지정한 `num_words`=1000 에 의거하여, 빈도수가 1000번째보다 떨어지는 단어는 자동으로 1로 치환됩니다.\n",
        "\n",
        "1은 '<OOV>' 입니다. (Out of Vocab)"
      ]
    },
    {
      "cell_type": "code",
      "metadata": {
        "id": "Mt22rhELRpAF"
      },
      "source": [
        "train_sentences[4]"
      ],
      "execution_count": null,
      "outputs": []
    },
    {
      "cell_type": "code",
      "metadata": {
        "id": "ZfwQcmvXRpAJ"
      },
      "source": [
        "word_index['j'], word_index['k'], word_index['rowling'], word_index['wishes'], word_index['snape'], word_index['happy']"
      ],
      "execution_count": null,
      "outputs": []
    },
    {
      "cell_type": "code",
      "metadata": {
        "id": "kGYuwVXBA00V"
      },
      "source": [
        "train_sequences[4]"
      ],
      "execution_count": null,
      "outputs": []
    },
    {
      "cell_type": "markdown",
      "metadata": {
        "id": "SRCwRYueRpAQ"
      },
      "source": [
        "## 전처리 Step 4. 시퀀스의 길이를 맞춰주기"
      ]
    },
    {
      "cell_type": "markdown",
      "metadata": {
        "id": "zAZyufTlRpAR"
      },
      "source": [
        "3가지 옵션을 입력해 줍니다.\n",
        "\n",
        "* `maxlen`: 최대 문장 길이를 정의합니다. 최대 문장길이보다 길면, 잘라냅니다.\n",
        "* `truncating`: 문장의 길이가 `maxlen`보다 길 때 앞을 자를지 뒤를 자를지 정의합니다.\n",
        "* `padding`: 문장의 길이가 `maxlen`보다 짧을 때 채워줄 값을 앞을 채울지, 뒤를 채울지 정의합니다."
      ]
    },
    {
      "cell_type": "code",
      "metadata": {
        "id": "CNH-OCTJ9hCN"
      },
      "source": [
        "# 한 문장의 최대 단어 숫자\n",
        "max_length = 120\n",
        "\n",
        "# 잘라낼 문장의 위치\n",
        "trunc_type='post'\n",
        "\n",
        "# 채워줄 문장의 위치\n",
        "padding_type='post'"
      ],
      "execution_count": 21,
      "outputs": []
    },
    {
      "cell_type": "code",
      "metadata": {
        "id": "jdaO9ErnRpAS",
        "colab": {
          "base_uri": "https://localhost:8080/",
          "height": 259
        },
        "outputId": "326d6a05-a607-4bab-aa85-752a9dff8a48"
      },
      "source": [
        "train_padded = pad_sequences(train_sequences, maxlen=max_length, truncating=trunc_type, padding=padding_type)\n",
        "validation_padded = pad_sequences(validation_sequences, maxlen=max_length, padding=padding_type, truncating=trunc_type)"
      ],
      "execution_count": 22,
      "outputs": [
        {
          "output_type": "error",
          "ename": "NameError",
          "evalue": "ignored",
          "traceback": [
            "\u001b[0;31m---------------------------------------------------------------------------\u001b[0m",
            "\u001b[0;31mNameError\u001b[0m                                 Traceback (most recent call last)",
            "\u001b[0;32m<ipython-input-22-c47e093be2c6>\u001b[0m in \u001b[0;36m<cell line: 1>\u001b[0;34m()\u001b[0m\n\u001b[0;32m----> 1\u001b[0;31m \u001b[0mtrain_padded\u001b[0m \u001b[0;34m=\u001b[0m \u001b[0mpad_sequences\u001b[0m\u001b[0;34m(\u001b[0m\u001b[0mtrain_sequences\u001b[0m\u001b[0;34m,\u001b[0m \u001b[0mmaxlen\u001b[0m\u001b[0;34m=\u001b[0m\u001b[0mmax_length\u001b[0m\u001b[0;34m,\u001b[0m \u001b[0mtruncating\u001b[0m\u001b[0;34m=\u001b[0m\u001b[0mtrunc_type\u001b[0m\u001b[0;34m,\u001b[0m \u001b[0mpadding\u001b[0m\u001b[0;34m=\u001b[0m\u001b[0mpadding_type\u001b[0m\u001b[0;34m)\u001b[0m\u001b[0;34m\u001b[0m\u001b[0;34m\u001b[0m\u001b[0m\n\u001b[0m\u001b[1;32m      2\u001b[0m \u001b[0mvalidation_padded\u001b[0m \u001b[0;34m=\u001b[0m \u001b[0mpad_sequences\u001b[0m\u001b[0;34m(\u001b[0m\u001b[0mvalidation_sequences\u001b[0m\u001b[0;34m,\u001b[0m \u001b[0mmaxlen\u001b[0m\u001b[0;34m=\u001b[0m\u001b[0mmax_length\u001b[0m\u001b[0;34m,\u001b[0m \u001b[0mpadding\u001b[0m\u001b[0;34m=\u001b[0m\u001b[0mpadding_type\u001b[0m\u001b[0;34m,\u001b[0m \u001b[0mtruncating\u001b[0m\u001b[0;34m=\u001b[0m\u001b[0mtrunc_type\u001b[0m\u001b[0;34m)\u001b[0m\u001b[0;34m\u001b[0m\u001b[0;34m\u001b[0m\u001b[0m\n",
            "\u001b[0;31mNameError\u001b[0m: name 'train_sequences' is not defined"
          ]
        }
      ]
    },
    {
      "cell_type": "markdown",
      "metadata": {
        "id": "w6eVduGjBzpZ"
      },
      "source": [
        "변환된 후 shape 확인"
      ]
    },
    {
      "cell_type": "code",
      "metadata": {
        "id": "tAudfwjTRpAV"
      },
      "source": [
        "train_padded.shape"
      ],
      "execution_count": null,
      "outputs": []
    },
    {
      "cell_type": "markdown",
      "metadata": {
        "id": "_p77o7VlIDV4"
      },
      "source": [
        "## 전처리 Step 5. label 값을 numpy array로 변환"
      ]
    },
    {
      "cell_type": "markdown",
      "metadata": {
        "id": "Zk5Xv54HCEtx"
      },
      "source": [
        "model이 `list` type은 받아들이지 못하므로, numpy array로 변환합니다."
      ]
    },
    {
      "cell_type": "code",
      "metadata": {
        "id": "RSTya5jCIDV5"
      },
      "source": [
        "train_labels = np.array(train_labels)\n",
        "validation_labels = np.array(validation_labels)"
      ],
      "execution_count": null,
      "outputs": []
    },
    {
      "cell_type": "markdown",
      "metadata": {
        "id": "GqT-hof9CNT-"
      },
      "source": [
        "-------------------------------------------------------------\n"
      ]
    },
    {
      "cell_type": "markdown",
      "metadata": {
        "id": "ZV72Y76tRpA3"
      },
      "source": [
        "## Embedding Layer"
      ]
    },
    {
      "cell_type": "markdown",
      "metadata": {
        "id": "GFGHxB6gRpA4"
      },
      "source": [
        "**고차원을 저차원으로 축소**시켜주는 역할을 합니다."
      ]
    },
    {
      "cell_type": "markdown",
      "metadata": {
        "id": "g-9HwruaRpA5"
      },
      "source": [
        "one-hot encoding을 진행했을 때, 1000차원으로 표현되는 단어들을 16차원으로 줄여주는 겁니다. 그렇게 해서 `sparsity`문제를 해소하도록 유도합니다."
      ]
    },
    {
      "cell_type": "code",
      "metadata": {
        "id": "iLHuZfQfDBtL"
      },
      "source": [
        "embedding_dim = 16"
      ],
      "execution_count": null,
      "outputs": []
    },
    {
      "cell_type": "markdown",
      "metadata": {
        "id": "ks25QpDWCyos"
      },
      "source": [
        "**변환 전**"
      ]
    },
    {
      "cell_type": "code",
      "metadata": {
        "id": "HElkj8fSRpA5"
      },
      "source": [
        "sample = np.array(train_padded[0])\n",
        "sample"
      ],
      "execution_count": null,
      "outputs": []
    },
    {
      "cell_type": "markdown",
      "metadata": {
        "id": "LG2vE6amCv7b"
      },
      "source": [
        "**변환 후**"
      ]
    },
    {
      "cell_type": "code",
      "metadata": {
        "id": "HJ-d2D1tRpBM"
      },
      "source": [
        "x = Embedding(vocab_size, embedding_dim, input_length=max_length)\n",
        "x(sample)[0]"
      ],
      "execution_count": null,
      "outputs": []
    },
    {
      "cell_type": "markdown",
      "metadata": {
        "id": "ehNYMSChRpBw"
      },
      "source": [
        "## 모델 정의 (Sequential)"
      ]
    },
    {
      "cell_type": "code",
      "metadata": {
        "id": "Jn8t4uehIDW-"
      },
      "source": [
        "model = Sequential([\n",
        "    Embedding(vocab_size, embedding_dim, input_length=max_length),\n",
        "    Bidirectional(LSTM(64, return_sequences=True)),\n",
        "    Bidirectional(LSTM(64)),\n",
        "    Dense(32, activation='relu'),\n",
        "    Dense(16, activation='relu'),\n",
        "    Dense(1, activation='sigmoid')\n",
        "])"
      ],
      "execution_count": null,
      "outputs": []
    },
    {
      "cell_type": "markdown",
      "metadata": {
        "id": "i6umKCF-D-U3"
      },
      "source": [
        "요약 확인"
      ]
    },
    {
      "cell_type": "code",
      "metadata": {
        "id": "JjmIBD7QD9FV"
      },
      "source": [
        "model.summary()"
      ],
      "execution_count": null,
      "outputs": []
    },
    {
      "cell_type": "markdown",
      "metadata": {
        "id": "WCdAX_rXRpB0"
      },
      "source": [
        "## 컴파일 (compile)"
      ]
    },
    {
      "cell_type": "markdown",
      "metadata": {
        "id": "IpJgAudwRpB1"
      },
      "source": [
        "1. `optimizer`는 가장 최적화가 잘되는 알고리즘인 'adam'을 사용합니다.\n",
        "2. `loss`는 이진 분류이기 때문에 `binary_crossentropy`를 사용합니다."
      ]
    },
    {
      "cell_type": "code",
      "metadata": {
        "id": "B2iupQVBRpB1"
      },
      "source": [
        "model.compile(optimizer='adam', loss='binary_crossentropy', metrics=['acc'])"
      ],
      "execution_count": null,
      "outputs": []
    },
    {
      "cell_type": "markdown",
      "metadata": {
        "id": "yJ0gsuoqSv7z"
      },
      "source": [
        "## ModelCheckpoint: 체크포인트 생성"
      ]
    },
    {
      "cell_type": "markdown",
      "metadata": {
        "id": "oXHmDZ2aSx4O"
      },
      "source": [
        "`val_loss` 기준으로 epoch 마다 최적의 모델을 저장하기 위하여, ModelCheckpoint를 만듭니다.\n",
        "* `checkpoint_path`는 모델이 저장될 파일 명을 설정합니다.\n",
        "* `ModelCheckpoint`을 선언하고, 적절한 옵션 값을 지정합니다."
      ]
    },
    {
      "cell_type": "code",
      "metadata": {
        "id": "v_AvlY0cIDXX"
      },
      "source": [
        "checkpoint_path = 'my_checkpoint.ckpt'\n",
        "checkpoint = ModelCheckpoint(checkpoint_path,\n",
        "                             save_weights_only=True,\n",
        "                             save_best_only=True,\n",
        "                             monitor='val_loss',\n",
        "                             verbose=1)"
      ],
      "execution_count": null,
      "outputs": []
    },
    {
      "cell_type": "markdown",
      "metadata": {
        "id": "oKy7ZkL6RpB4"
      },
      "source": [
        "## 학습 (fit)"
      ]
    },
    {
      "cell_type": "code",
      "metadata": {
        "id": "lBL_WTG3Er63"
      },
      "source": [
        "epochs=10"
      ],
      "execution_count": null,
      "outputs": []
    },
    {
      "cell_type": "code",
      "metadata": {
        "id": "byjJCmN_RpB4"
      },
      "source": [
        "history = model.fit(train_padded, train_labels,\n",
        "                    validation_data=(validation_padded, validation_labels),\n",
        "                    callbacks=[checkpoint],\n",
        "                    epochs=epochs)"
      ],
      "execution_count": null,
      "outputs": []
    },
    {
      "cell_type": "markdown",
      "metadata": {
        "id": "shzhTOjAninH"
      },
      "source": [
        "## 학습 완료 후 Load Weights (ModelCheckpoint)"
      ]
    },
    {
      "cell_type": "markdown",
      "metadata": {
        "id": "kLqb_6XrMvdq"
      },
      "source": [
        "학습이 완료된 후에는 반드시 `load_weights`를 해주어야 합니다.\n",
        "\n",
        "그렇지 않으면, 열심히 ModelCheckpoint를 만든 의미가 없습니다."
      ]
    },
    {
      "cell_type": "code",
      "metadata": {
        "id": "4jO1ucZ9ninH"
      },
      "source": [
        "model.load_weights(checkpoint_path)"
      ],
      "execution_count": null,
      "outputs": []
    },
    {
      "cell_type": "markdown",
      "metadata": {
        "id": "1t0xRupR1LmK"
      },
      "source": [
        "## 학습 오차에 대한 시각화"
      ]
    },
    {
      "cell_type": "code",
      "metadata": {
        "id": "wwus5OLdFg2t"
      },
      "source": [
        "import matplotlib.pyplot as plt"
      ],
      "execution_count": null,
      "outputs": []
    },
    {
      "cell_type": "code",
      "metadata": {
        "id": "luCcz7AUE5Z3"
      },
      "source": [
        "plt.figure(figsize=(12, 9))\n",
        "plt.plot(np.arange(1, epochs+1), history.history['loss'])\n",
        "plt.plot(np.arange(1, epochs+1), history.history['val_loss'])\n",
        "plt.title('Loss / Val Loss', fontsize=20)\n",
        "plt.xlabel('Epochs')\n",
        "plt.ylabel('Loss')\n",
        "plt.legend(['loss', 'val_loss'], fontsize=15)\n",
        "plt.show()"
      ],
      "execution_count": null,
      "outputs": []
    },
    {
      "cell_type": "code",
      "metadata": {
        "id": "W98mqIn0E8bW"
      },
      "source": [
        "plt.figure(figsize=(12, 9))\n",
        "plt.plot(np.arange(1, epochs+1), history.history['acc'])\n",
        "plt.plot(np.arange(1, epochs+1), history.history['val_acc'])\n",
        "plt.title('Acc / Val Acc', fontsize=20)\n",
        "plt.xlabel('Epochs')\n",
        "plt.ylabel('Acc')\n",
        "plt.legend(['acc', 'val_acc'], fontsize=15)\n",
        "plt.show()"
      ],
      "execution_count": null,
      "outputs": []
    }
  ]
}