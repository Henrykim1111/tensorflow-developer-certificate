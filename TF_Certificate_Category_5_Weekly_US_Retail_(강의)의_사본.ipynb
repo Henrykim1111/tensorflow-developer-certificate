{
  "nbformat": 4,
  "nbformat_minor": 5,
  "metadata": {
    "kernelspec": {
      "display_name": "Python 3",
      "name": "python3"
    },
    "language_info": {
      "codemirror_mode": {
        "name": "ipython",
        "version": 3
      },
      "file_extension": ".py",
      "mimetype": "text/x-python",
      "name": "python",
      "nbconvert_exporter": "python",
      "pygments_lexer": "ipython3",
      "version": "3.7.10"
    },
    "colab": {
      "provenance": [],
      "gpuType": "T4",
      "include_colab_link": true
    },
    "accelerator": "GPU"
  },
  "cells": [
    {
      "cell_type": "markdown",
      "metadata": {
        "id": "view-in-github",
        "colab_type": "text"
      },
      "source": [
        "<a href=\"https://colab.research.google.com/github/Henrykim1111/tensorflow-developer-certificate/blob/main/TF_Certificate_Category_5_Weekly_US_Retail_(%EA%B0%95%EC%9D%98)%EC%9D%98_%EC%82%AC%EB%B3%B8.ipynb\" target=\"_parent\"><img src=\"https://colab.research.google.com/assets/colab-badge.svg\" alt=\"Open In Colab\"/></a>"
      ]
    },
    {
      "cell_type": "code",
      "metadata": {
        "id": "C-z36bIfUDQl"
      },
      "source": [
        "# 2021년 10월 20일 신규 출제 문제"
      ],
      "id": "C-z36bIfUDQl",
      "execution_count": null,
      "outputs": []
    },
    {
      "cell_type": "markdown",
      "metadata": {
        "id": "5e1413d6"
      },
      "source": [
        "# Category 5\n",
        "\n",
        "Sequence (시계열) 데이터 다루기"
      ],
      "id": "5e1413d6"
    },
    {
      "cell_type": "markdown",
      "metadata": {
        "id": "6dfad319"
      },
      "source": [
        "## 확인"
      ],
      "id": "6dfad319"
    },
    {
      "cell_type": "markdown",
      "metadata": {
        "id": "33158dd8"
      },
      "source": [
        "1. GPU 옵션 켜져 있는지 확인할 것!!! (수정 - 노트설정 - 하드웨어설정 (GPU))"
      ],
      "id": "33158dd8"
    },
    {
      "cell_type": "markdown",
      "metadata": {
        "id": "b0989fb2"
      },
      "source": [
        "## 순서"
      ],
      "id": "b0989fb2"
    },
    {
      "cell_type": "markdown",
      "metadata": {
        "id": "a133fcd4"
      },
      "source": [
        "1. **import**: 필요한 모듈 import\n",
        "2. **전처리**: 학습에 필요한 데이터 전처리를 수행합니다.\n",
        "3. **모델링(model)**: 모델을 정의합니다.\n",
        "4. **컴파일(compile)**: 모델을 생성합니다.\n",
        "5. **학습 (fit)**: 모델을 학습시킵니다."
      ],
      "id": "a133fcd4"
    },
    {
      "cell_type": "markdown",
      "metadata": {
        "id": "41716c06"
      },
      "source": [
        "## 문제"
      ],
      "id": "41716c06"
    },
    {
      "cell_type": "markdown",
      "metadata": {
        "id": "2a909b6c"
      },
      "source": [
        "Build and train a neural network to predict the time indexed variable of the univariate US diesel prices (On - Highway) All types for the period of 1994 - 2021.\n",
        "\n",
        "Using a **window of past 10 observations of 1 feature** , train the model to predict the **next 10 observations** of that feature.\n",
        "\n",
        "---\n",
        "\n",
        "HINT: If you follow all the rules mentioned above and throughout this\n",
        "question while training your neural network, there is a possibility that a\n",
        "validation **MAE of approximately 0.02 or less on the normalized validation\n",
        "dataset** may fetch you top marks."
      ],
      "id": "2a909b6c"
    },
    {
      "cell_type": "markdown",
      "metadata": {
        "id": "d3422951"
      },
      "source": [
        "## 실습 예제 다운로드"
      ],
      "id": "d3422951"
    },
    {
      "cell_type": "code",
      "metadata": {
        "id": "4407fa14",
        "colab": {
          "base_uri": "https://localhost:8080/"
        },
        "outputId": "255948b8-b635-459d-84e3-6d77bdff1d82"
      },
      "source": [
        "import urllib\n",
        "import pandas as pd\n",
        "import tensorflow as tf\n",
        "from tensorflow.keras.layers import Dense, Conv1D, LSTM, Bidirectional\n",
        "from tensorflow.keras.models import Sequential\n",
        "from tensorflow.keras.callbacks import ModelCheckpoint\n",
        "\n",
        "# 아래 2줄 코드는 넣지 말아 주세요!!!\n",
        "url = 'https://www.dropbox.com/s/eduk281didil1km/Weekly_U.S.Diesel_Retail_Prices.csv?dl=1'\n",
        "urllib.request.urlretrieve(url, 'Weekly_U.S.Diesel_Retail_Prices.csv')"
      ],
      "id": "4407fa14",
      "execution_count": 1,
      "outputs": [
        {
          "output_type": "execute_result",
          "data": {
            "text/plain": [
              "('Weekly_U.S.Diesel_Retail_Prices.csv',\n",
              " <http.client.HTTPMessage at 0x79e83ccf6170>)"
            ]
          },
          "metadata": {},
          "execution_count": 1
        }
      ]
    },
    {
      "cell_type": "markdown",
      "metadata": {
        "id": "67ea2ea7"
      },
      "source": [
        "### Normalization"
      ],
      "id": "67ea2ea7"
    },
    {
      "cell_type": "code",
      "metadata": {
        "id": "edf69d68"
      },
      "source": [
        "# This function normalizes the dataset using min max scaling.\n",
        "# DO NOT CHANGE THIS CODE\n",
        "def normalize_series(data, min, max):\n",
        "    data = data - min\n",
        "    data = data / max\n",
        "    return data"
      ],
      "id": "edf69d68",
      "execution_count": 2,
      "outputs": []
    },
    {
      "cell_type": "markdown",
      "metadata": {
        "id": "80820e55"
      },
      "source": [
        "### Windowed Dataset 생성"
      ],
      "id": "80820e55"
    },
    {
      "cell_type": "code",
      "metadata": {
        "id": "4f85f8f2"
      },
      "source": [
        "# DO NOT CHANGE THIS.\n",
        "def windowed_dataset(series, batch_size, n_past=10, n_future=10, shift=1):\n",
        "    ds = tf.data.Dataset.from_tensor_slices(series)\n",
        "    ds = ds.window(size=n_past + n_future, shift=shift, drop_remainder=True)\n",
        "    ds = ds.flat_map(lambda w: w.batch(n_past + n_future))\n",
        "    ds = ds.map(lambda w: (w[:n_past], w[n_past:]))\n",
        "    return ds.batch(batch_size).prefetch(1)"
      ],
      "id": "4f85f8f2",
      "execution_count": 3,
      "outputs": []
    },
    {
      "cell_type": "markdown",
      "metadata": {
        "id": "5294aaa0"
      },
      "source": [
        "### Dataset 로드"
      ],
      "id": "5294aaa0"
    },
    {
      "cell_type": "code",
      "metadata": {
        "id": "cb8adcad",
        "colab": {
          "base_uri": "https://localhost:8080/",
          "height": 700
        },
        "outputId": "a440c239-bc16-4dbd-96bc-e025729870c2"
      },
      "source": [
        "df = pd.read_csv('Weekly_U.S.Diesel_Retail_Prices.csv', infer_datetime_format=True, index_col='Week of', header=0)\n",
        "df.head(20)"
      ],
      "id": "cb8adcad",
      "execution_count": 4,
      "outputs": [
        {
          "output_type": "execute_result",
          "data": {
            "text/plain": [
              "            Weekly U.S. No 2 Diesel Retail Prices Dollars per Gallon\n",
              "Week of                                                             \n",
              "1994-03-21                                              1.106       \n",
              "1994-03-28                                              1.107       \n",
              "1994-04-04                                              1.109       \n",
              "1994-04-11                                              1.108       \n",
              "1994-04-18                                              1.105       \n",
              "1994-04-25                                              1.106       \n",
              "1994-05-02                                              1.104       \n",
              "1994-05-09                                              1.101       \n",
              "1994-05-16                                              1.099       \n",
              "1994-05-23                                              1.099       \n",
              "1994-05-30                                              1.098       \n",
              "1994-06-06                                              1.101       \n",
              "1994-06-13                                              1.098       \n",
              "1994-06-20                                              1.103       \n",
              "1994-06-27                                              1.108       \n",
              "1994-07-04                                              1.109       \n",
              "1994-07-11                                              1.110       \n",
              "1994-07-18                                              1.111       \n",
              "1994-07-25                                              1.111       \n",
              "1994-08-01                                              1.116       "
            ],
            "text/html": [
              "\n",
              "  <div id=\"df-d2691b38-2f94-443b-b4e1-ee20d8eee802\" class=\"colab-df-container\">\n",
              "    <div>\n",
              "<style scoped>\n",
              "    .dataframe tbody tr th:only-of-type {\n",
              "        vertical-align: middle;\n",
              "    }\n",
              "\n",
              "    .dataframe tbody tr th {\n",
              "        vertical-align: top;\n",
              "    }\n",
              "\n",
              "    .dataframe thead th {\n",
              "        text-align: right;\n",
              "    }\n",
              "</style>\n",
              "<table border=\"1\" class=\"dataframe\">\n",
              "  <thead>\n",
              "    <tr style=\"text-align: right;\">\n",
              "      <th></th>\n",
              "      <th>Weekly U.S. No 2 Diesel Retail Prices Dollars per Gallon</th>\n",
              "    </tr>\n",
              "    <tr>\n",
              "      <th>Week of</th>\n",
              "      <th></th>\n",
              "    </tr>\n",
              "  </thead>\n",
              "  <tbody>\n",
              "    <tr>\n",
              "      <th>1994-03-21</th>\n",
              "      <td>1.106</td>\n",
              "    </tr>\n",
              "    <tr>\n",
              "      <th>1994-03-28</th>\n",
              "      <td>1.107</td>\n",
              "    </tr>\n",
              "    <tr>\n",
              "      <th>1994-04-04</th>\n",
              "      <td>1.109</td>\n",
              "    </tr>\n",
              "    <tr>\n",
              "      <th>1994-04-11</th>\n",
              "      <td>1.108</td>\n",
              "    </tr>\n",
              "    <tr>\n",
              "      <th>1994-04-18</th>\n",
              "      <td>1.105</td>\n",
              "    </tr>\n",
              "    <tr>\n",
              "      <th>1994-04-25</th>\n",
              "      <td>1.106</td>\n",
              "    </tr>\n",
              "    <tr>\n",
              "      <th>1994-05-02</th>\n",
              "      <td>1.104</td>\n",
              "    </tr>\n",
              "    <tr>\n",
              "      <th>1994-05-09</th>\n",
              "      <td>1.101</td>\n",
              "    </tr>\n",
              "    <tr>\n",
              "      <th>1994-05-16</th>\n",
              "      <td>1.099</td>\n",
              "    </tr>\n",
              "    <tr>\n",
              "      <th>1994-05-23</th>\n",
              "      <td>1.099</td>\n",
              "    </tr>\n",
              "    <tr>\n",
              "      <th>1994-05-30</th>\n",
              "      <td>1.098</td>\n",
              "    </tr>\n",
              "    <tr>\n",
              "      <th>1994-06-06</th>\n",
              "      <td>1.101</td>\n",
              "    </tr>\n",
              "    <tr>\n",
              "      <th>1994-06-13</th>\n",
              "      <td>1.098</td>\n",
              "    </tr>\n",
              "    <tr>\n",
              "      <th>1994-06-20</th>\n",
              "      <td>1.103</td>\n",
              "    </tr>\n",
              "    <tr>\n",
              "      <th>1994-06-27</th>\n",
              "      <td>1.108</td>\n",
              "    </tr>\n",
              "    <tr>\n",
              "      <th>1994-07-04</th>\n",
              "      <td>1.109</td>\n",
              "    </tr>\n",
              "    <tr>\n",
              "      <th>1994-07-11</th>\n",
              "      <td>1.110</td>\n",
              "    </tr>\n",
              "    <tr>\n",
              "      <th>1994-07-18</th>\n",
              "      <td>1.111</td>\n",
              "    </tr>\n",
              "    <tr>\n",
              "      <th>1994-07-25</th>\n",
              "      <td>1.111</td>\n",
              "    </tr>\n",
              "    <tr>\n",
              "      <th>1994-08-01</th>\n",
              "      <td>1.116</td>\n",
              "    </tr>\n",
              "  </tbody>\n",
              "</table>\n",
              "</div>\n",
              "    <div class=\"colab-df-buttons\">\n",
              "\n",
              "  <div class=\"colab-df-container\">\n",
              "    <button class=\"colab-df-convert\" onclick=\"convertToInteractive('df-d2691b38-2f94-443b-b4e1-ee20d8eee802')\"\n",
              "            title=\"Convert this dataframe to an interactive table.\"\n",
              "            style=\"display:none;\">\n",
              "\n",
              "  <svg xmlns=\"http://www.w3.org/2000/svg\" height=\"24px\" viewBox=\"0 -960 960 960\">\n",
              "    <path d=\"M120-120v-720h720v720H120Zm60-500h600v-160H180v160Zm220 220h160v-160H400v160Zm0 220h160v-160H400v160ZM180-400h160v-160H180v160Zm440 0h160v-160H620v160ZM180-180h160v-160H180v160Zm440 0h160v-160H620v160Z\"/>\n",
              "  </svg>\n",
              "    </button>\n",
              "\n",
              "  <style>\n",
              "    .colab-df-container {\n",
              "      display:flex;\n",
              "      gap: 12px;\n",
              "    }\n",
              "\n",
              "    .colab-df-convert {\n",
              "      background-color: #E8F0FE;\n",
              "      border: none;\n",
              "      border-radius: 50%;\n",
              "      cursor: pointer;\n",
              "      display: none;\n",
              "      fill: #1967D2;\n",
              "      height: 32px;\n",
              "      padding: 0 0 0 0;\n",
              "      width: 32px;\n",
              "    }\n",
              "\n",
              "    .colab-df-convert:hover {\n",
              "      background-color: #E2EBFA;\n",
              "      box-shadow: 0px 1px 2px rgba(60, 64, 67, 0.3), 0px 1px 3px 1px rgba(60, 64, 67, 0.15);\n",
              "      fill: #174EA6;\n",
              "    }\n",
              "\n",
              "    .colab-df-buttons div {\n",
              "      margin-bottom: 4px;\n",
              "    }\n",
              "\n",
              "    [theme=dark] .colab-df-convert {\n",
              "      background-color: #3B4455;\n",
              "      fill: #D2E3FC;\n",
              "    }\n",
              "\n",
              "    [theme=dark] .colab-df-convert:hover {\n",
              "      background-color: #434B5C;\n",
              "      box-shadow: 0px 1px 3px 1px rgba(0, 0, 0, 0.15);\n",
              "      filter: drop-shadow(0px 1px 2px rgba(0, 0, 0, 0.3));\n",
              "      fill: #FFFFFF;\n",
              "    }\n",
              "  </style>\n",
              "\n",
              "    <script>\n",
              "      const buttonEl =\n",
              "        document.querySelector('#df-d2691b38-2f94-443b-b4e1-ee20d8eee802 button.colab-df-convert');\n",
              "      buttonEl.style.display =\n",
              "        google.colab.kernel.accessAllowed ? 'block' : 'none';\n",
              "\n",
              "      async function convertToInteractive(key) {\n",
              "        const element = document.querySelector('#df-d2691b38-2f94-443b-b4e1-ee20d8eee802');\n",
              "        const dataTable =\n",
              "          await google.colab.kernel.invokeFunction('convertToInteractive',\n",
              "                                                    [key], {});\n",
              "        if (!dataTable) return;\n",
              "\n",
              "        const docLinkHtml = 'Like what you see? Visit the ' +\n",
              "          '<a target=\"_blank\" href=https://colab.research.google.com/notebooks/data_table.ipynb>data table notebook</a>'\n",
              "          + ' to learn more about interactive tables.';\n",
              "        element.innerHTML = '';\n",
              "        dataTable['output_type'] = 'display_data';\n",
              "        await google.colab.output.renderOutput(dataTable, element);\n",
              "        const docLink = document.createElement('div');\n",
              "        docLink.innerHTML = docLinkHtml;\n",
              "        element.appendChild(docLink);\n",
              "      }\n",
              "    </script>\n",
              "  </div>\n",
              "\n",
              "\n",
              "<div id=\"df-f06aa662-c62b-4cb6-a8fc-5ef2a7a69a54\">\n",
              "  <button class=\"colab-df-quickchart\" onclick=\"quickchart('df-f06aa662-c62b-4cb6-a8fc-5ef2a7a69a54')\"\n",
              "            title=\"Suggest charts\"\n",
              "            style=\"display:none;\">\n",
              "\n",
              "<svg xmlns=\"http://www.w3.org/2000/svg\" height=\"24px\"viewBox=\"0 0 24 24\"\n",
              "     width=\"24px\">\n",
              "    <g>\n",
              "        <path d=\"M19 3H5c-1.1 0-2 .9-2 2v14c0 1.1.9 2 2 2h14c1.1 0 2-.9 2-2V5c0-1.1-.9-2-2-2zM9 17H7v-7h2v7zm4 0h-2V7h2v10zm4 0h-2v-4h2v4z\"/>\n",
              "    </g>\n",
              "</svg>\n",
              "  </button>\n",
              "\n",
              "<style>\n",
              "  .colab-df-quickchart {\n",
              "      --bg-color: #E8F0FE;\n",
              "      --fill-color: #1967D2;\n",
              "      --hover-bg-color: #E2EBFA;\n",
              "      --hover-fill-color: #174EA6;\n",
              "      --disabled-fill-color: #AAA;\n",
              "      --disabled-bg-color: #DDD;\n",
              "  }\n",
              "\n",
              "  [theme=dark] .colab-df-quickchart {\n",
              "      --bg-color: #3B4455;\n",
              "      --fill-color: #D2E3FC;\n",
              "      --hover-bg-color: #434B5C;\n",
              "      --hover-fill-color: #FFFFFF;\n",
              "      --disabled-bg-color: #3B4455;\n",
              "      --disabled-fill-color: #666;\n",
              "  }\n",
              "\n",
              "  .colab-df-quickchart {\n",
              "    background-color: var(--bg-color);\n",
              "    border: none;\n",
              "    border-radius: 50%;\n",
              "    cursor: pointer;\n",
              "    display: none;\n",
              "    fill: var(--fill-color);\n",
              "    height: 32px;\n",
              "    padding: 0;\n",
              "    width: 32px;\n",
              "  }\n",
              "\n",
              "  .colab-df-quickchart:hover {\n",
              "    background-color: var(--hover-bg-color);\n",
              "    box-shadow: 0 1px 2px rgba(60, 64, 67, 0.3), 0 1px 3px 1px rgba(60, 64, 67, 0.15);\n",
              "    fill: var(--button-hover-fill-color);\n",
              "  }\n",
              "\n",
              "  .colab-df-quickchart-complete:disabled,\n",
              "  .colab-df-quickchart-complete:disabled:hover {\n",
              "    background-color: var(--disabled-bg-color);\n",
              "    fill: var(--disabled-fill-color);\n",
              "    box-shadow: none;\n",
              "  }\n",
              "\n",
              "  .colab-df-spinner {\n",
              "    border: 2px solid var(--fill-color);\n",
              "    border-color: transparent;\n",
              "    border-bottom-color: var(--fill-color);\n",
              "    animation:\n",
              "      spin 1s steps(1) infinite;\n",
              "  }\n",
              "\n",
              "  @keyframes spin {\n",
              "    0% {\n",
              "      border-color: transparent;\n",
              "      border-bottom-color: var(--fill-color);\n",
              "      border-left-color: var(--fill-color);\n",
              "    }\n",
              "    20% {\n",
              "      border-color: transparent;\n",
              "      border-left-color: var(--fill-color);\n",
              "      border-top-color: var(--fill-color);\n",
              "    }\n",
              "    30% {\n",
              "      border-color: transparent;\n",
              "      border-left-color: var(--fill-color);\n",
              "      border-top-color: var(--fill-color);\n",
              "      border-right-color: var(--fill-color);\n",
              "    }\n",
              "    40% {\n",
              "      border-color: transparent;\n",
              "      border-right-color: var(--fill-color);\n",
              "      border-top-color: var(--fill-color);\n",
              "    }\n",
              "    60% {\n",
              "      border-color: transparent;\n",
              "      border-right-color: var(--fill-color);\n",
              "    }\n",
              "    80% {\n",
              "      border-color: transparent;\n",
              "      border-right-color: var(--fill-color);\n",
              "      border-bottom-color: var(--fill-color);\n",
              "    }\n",
              "    90% {\n",
              "      border-color: transparent;\n",
              "      border-bottom-color: var(--fill-color);\n",
              "    }\n",
              "  }\n",
              "</style>\n",
              "\n",
              "  <script>\n",
              "    async function quickchart(key) {\n",
              "      const quickchartButtonEl =\n",
              "        document.querySelector('#' + key + ' button');\n",
              "      quickchartButtonEl.disabled = true;  // To prevent multiple clicks.\n",
              "      quickchartButtonEl.classList.add('colab-df-spinner');\n",
              "      try {\n",
              "        const charts = await google.colab.kernel.invokeFunction(\n",
              "            'suggestCharts', [key], {});\n",
              "      } catch (error) {\n",
              "        console.error('Error during call to suggestCharts:', error);\n",
              "      }\n",
              "      quickchartButtonEl.classList.remove('colab-df-spinner');\n",
              "      quickchartButtonEl.classList.add('colab-df-quickchart-complete');\n",
              "    }\n",
              "    (() => {\n",
              "      let quickchartButtonEl =\n",
              "        document.querySelector('#df-f06aa662-c62b-4cb6-a8fc-5ef2a7a69a54 button');\n",
              "      quickchartButtonEl.style.display =\n",
              "        google.colab.kernel.accessAllowed ? 'block' : 'none';\n",
              "    })();\n",
              "  </script>\n",
              "</div>\n",
              "\n",
              "    </div>\n",
              "  </div>\n"
            ]
          },
          "metadata": {},
          "execution_count": 4
        }
      ]
    },
    {
      "cell_type": "code",
      "metadata": {
        "id": "ec1f883e",
        "colab": {
          "base_uri": "https://localhost:8080/"
        },
        "outputId": "7ab0bfc1-80e3-4b39-f230-303887bc71cf"
      },
      "source": [
        "# 특성 정의\n",
        "N_FEATURES = len(df.columns)\n",
        "N_FEATURES"
      ],
      "id": "ec1f883e",
      "execution_count": 5,
      "outputs": [
        {
          "output_type": "execute_result",
          "data": {
            "text/plain": [
              "1"
            ]
          },
          "metadata": {},
          "execution_count": 5
        }
      ]
    },
    {
      "cell_type": "markdown",
      "metadata": {
        "id": "66090bba"
      },
      "source": [
        "### 정규화 및 데이터 분할"
      ],
      "id": "66090bba"
    },
    {
      "cell_type": "code",
      "metadata": {
        "id": "26502285"
      },
      "source": [
        "# 정규화 코드\n",
        "data = df.values\n",
        "data = normalize_series(data, data.min(axis=0), data.max(axis=0))\n",
        "\n",
        "# 데이터 분할\n",
        "SPLIT_TIME = int(len(data) * 0.8) # DO NOT CHANGE THIS\n",
        "x_train = data[:SPLIT_TIME]\n",
        "x_valid = data[SPLIT_TIME:]"
      ],
      "id": "26502285",
      "execution_count": 6,
      "outputs": []
    },
    {
      "cell_type": "code",
      "metadata": {
        "id": "e75e029a"
      },
      "source": [
        "BATCH_SIZE = 32  # 배치사이즈\n",
        "N_PAST = 10      # 과거 데이터 (X)\n",
        "N_FUTURE = 10    # 미래 데이터 (Y)\n",
        "SHIFT = 1        # SHIFT"
      ],
      "id": "e75e029a",
      "execution_count": 7,
      "outputs": []
    },
    {
      "cell_type": "markdown",
      "metadata": {
        "id": "63e49b63"
      },
      "source": [
        "### train / validation set 구성"
      ],
      "id": "63e49b63"
    },
    {
      "cell_type": "code",
      "metadata": {
        "id": "91292427"
      },
      "source": [
        "train_set = windowed_dataset(series=x_train, batch_size=BATCH_SIZE,\n",
        "                             n_past=N_PAST, n_future=N_FUTURE,\n",
        "                             shift=SHIFT)\n",
        "\n",
        "valid_set = windowed_dataset(series=x_valid, batch_size=BATCH_SIZE,\n",
        "                             n_past=N_PAST, n_future=N_FUTURE,\n",
        "                             shift=SHIFT)"
      ],
      "id": "91292427",
      "execution_count": 8,
      "outputs": []
    },
    {
      "cell_type": "markdown",
      "metadata": {
        "id": "a9bb69e7"
      },
      "source": [
        "### 모델 구성"
      ],
      "id": "a9bb69e7"
    },
    {
      "cell_type": "code",
      "metadata": {
        "id": "b9a2ca86"
      },
      "source": [
        "model = tf.keras.models.Sequential([\n",
        "    Conv1D(filters=32, kernel_size=5, padding='causal', activation='relu', input_shape=[N_PAST, 1]),\n",
        "    Bidirectional(LSTM(32, return_sequences=True)),\n",
        "    Bidirectional(LSTM(32, return_sequences=True)),\n",
        "    Dense(32, activation='relu'),\n",
        "    Dense(16, activation='relu'),\n",
        "    Dense(N_FEATURES)\n",
        "])"
      ],
      "id": "b9a2ca86",
      "execution_count": 9,
      "outputs": []
    },
    {
      "cell_type": "markdown",
      "metadata": {
        "id": "c71b0cde"
      },
      "source": [
        "### 체크포인트 생성"
      ],
      "id": "c71b0cde"
    },
    {
      "cell_type": "code",
      "metadata": {
        "id": "4e7c72b8"
      },
      "source": [
        "checkpoint_path = 'model/my_checkpoint.ckpt'\n",
        "checkpoint = ModelCheckpoint(filepath=checkpoint_path,\n",
        "                             save_weights_only=True,\n",
        "                             save_best_only=True,\n",
        "                             monitor='val_mae',\n",
        "                             verbose=1)"
      ],
      "id": "4e7c72b8",
      "execution_count": 10,
      "outputs": []
    },
    {
      "cell_type": "markdown",
      "metadata": {
        "id": "a5d88f17"
      },
      "source": [
        "### 컴파일"
      ],
      "id": "a5d88f17"
    },
    {
      "cell_type": "code",
      "metadata": {
        "id": "a51acd99"
      },
      "source": [
        "optimizer = tf.keras.optimizers.Adam(0.0001)\n",
        "model.compile(optimizer=optimizer, loss=tf.keras.losses.Huber(), metrics=['mae'])"
      ],
      "id": "a51acd99",
      "execution_count": 11,
      "outputs": []
    },
    {
      "cell_type": "markdown",
      "metadata": {
        "id": "6ada3688"
      },
      "source": [
        "### 학습(train)"
      ],
      "id": "6ada3688"
    },
    {
      "cell_type": "code",
      "metadata": {
        "id": "a9f3a59e",
        "colab": {
          "base_uri": "https://localhost:8080/"
        },
        "outputId": "6335a4bd-ca50-4f74-f3f6-c46d04388599"
      },
      "source": [
        "model.fit(train_set,\n",
        "          validation_data=(valid_set),\n",
        "          epochs=100,\n",
        "          callbacks=[checkpoint])"
      ],
      "id": "a9f3a59e",
      "execution_count": 12,
      "outputs": [
        {
          "output_type": "stream",
          "name": "stdout",
          "text": [
            "Epoch 1/100\n",
            "     33/Unknown - 6s 12ms/step - loss: 0.0410 - mae: 0.2179\n",
            "Epoch 1: val_mae improved from inf to 0.26119, saving model to model/my_checkpoint.ckpt\n",
            "35/35 [==============================] - 7s 58ms/step - loss: 0.0410 - mae: 0.2213 - val_loss: 0.0359 - val_mae: 0.2612\n",
            "Epoch 2/100\n",
            "32/35 [==========================>...] - ETA: 0s - loss: 0.0195 - mae: 0.1404\n",
            "Epoch 2: val_mae improved from 0.26119 to 0.15113, saving model to model/my_checkpoint.ckpt\n",
            "35/35 [==============================] - 1s 24ms/step - loss: 0.0202 - mae: 0.1465 - val_loss: 0.0129 - val_mae: 0.1511\n",
            "Epoch 3/100\n",
            "35/35 [==============================] - ETA: 0s - loss: 0.0084 - mae: 0.1067\n",
            "Epoch 3: val_mae improved from 0.15113 to 0.05661, saving model to model/my_checkpoint.ckpt\n",
            "35/35 [==============================] - 1s 15ms/step - loss: 0.0084 - mae: 0.1067 - val_loss: 0.0025 - val_mae: 0.0566\n",
            "Epoch 4/100\n",
            "34/35 [============================>.] - ETA: 0s - loss: 0.0062 - mae: 0.0980\n",
            "Epoch 4: val_mae improved from 0.05661 to 0.04058, saving model to model/my_checkpoint.ckpt\n",
            "35/35 [==============================] - 1s 15ms/step - loss: 0.0061 - mae: 0.0966 - val_loss: 0.0013 - val_mae: 0.0406\n",
            "Epoch 5/100\n",
            "35/35 [==============================] - ETA: 0s - loss: 0.0055 - mae: 0.0907\n",
            "Epoch 5: val_mae improved from 0.04058 to 0.03949, saving model to model/my_checkpoint.ckpt\n",
            "35/35 [==============================] - 1s 16ms/step - loss: 0.0055 - mae: 0.0907 - val_loss: 0.0013 - val_mae: 0.0395\n",
            "Epoch 6/100\n",
            "34/35 [============================>.] - ETA: 0s - loss: 0.0045 - mae: 0.0814\n",
            "Epoch 6: val_mae improved from 0.03949 to 0.03833, saving model to model/my_checkpoint.ckpt\n",
            "35/35 [==============================] - 1s 16ms/step - loss: 0.0044 - mae: 0.0804 - val_loss: 0.0012 - val_mae: 0.0383\n",
            "Epoch 7/100\n",
            "33/35 [===========================>..] - ETA: 0s - loss: 0.0036 - mae: 0.0717\n",
            "Epoch 7: val_mae improved from 0.03833 to 0.03737, saving model to model/my_checkpoint.ckpt\n",
            "35/35 [==============================] - 1s 16ms/step - loss: 0.0035 - mae: 0.0708 - val_loss: 0.0011 - val_mae: 0.0374\n",
            "Epoch 8/100\n",
            "32/35 [==========================>...] - ETA: 0s - loss: 0.0029 - mae: 0.0635\n",
            "Epoch 8: val_mae improved from 0.03737 to 0.03657, saving model to model/my_checkpoint.ckpt\n",
            "35/35 [==============================] - 1s 15ms/step - loss: 0.0029 - mae: 0.0624 - val_loss: 0.0011 - val_mae: 0.0366\n",
            "Epoch 9/100\n",
            "35/35 [==============================] - ETA: 0s - loss: 0.0024 - mae: 0.0555\n",
            "Epoch 9: val_mae improved from 0.03657 to 0.03593, saving model to model/my_checkpoint.ckpt\n",
            "35/35 [==============================] - 1s 16ms/step - loss: 0.0024 - mae: 0.0555 - val_loss: 0.0011 - val_mae: 0.0359\n",
            "Epoch 10/100\n",
            "34/35 [============================>.] - ETA: 0s - loss: 0.0022 - mae: 0.0504\n",
            "Epoch 10: val_mae improved from 0.03593 to 0.03533, saving model to model/my_checkpoint.ckpt\n",
            "35/35 [==============================] - 1s 15ms/step - loss: 0.0021 - mae: 0.0501 - val_loss: 0.0011 - val_mae: 0.0353\n",
            "Epoch 11/100\n",
            "35/35 [==============================] - ETA: 0s - loss: 0.0020 - mae: 0.0460\n",
            "Epoch 11: val_mae improved from 0.03533 to 0.03474, saving model to model/my_checkpoint.ckpt\n",
            "35/35 [==============================] - 1s 16ms/step - loss: 0.0020 - mae: 0.0460 - val_loss: 0.0010 - val_mae: 0.0347\n",
            "Epoch 12/100\n",
            "33/35 [===========================>..] - ETA: 0s - loss: 0.0018 - mae: 0.0425\n",
            "Epoch 12: val_mae improved from 0.03474 to 0.03411, saving model to model/my_checkpoint.ckpt\n",
            "35/35 [==============================] - 1s 15ms/step - loss: 0.0018 - mae: 0.0432 - val_loss: 0.0010 - val_mae: 0.0341\n",
            "Epoch 13/100\n",
            "31/35 [=========================>....] - ETA: 0s - loss: 0.0018 - mae: 0.0413\n",
            "Epoch 13: val_mae improved from 0.03411 to 0.03346, saving model to model/my_checkpoint.ckpt\n",
            "35/35 [==============================] - 1s 15ms/step - loss: 0.0018 - mae: 0.0411 - val_loss: 9.7644e-04 - val_mae: 0.0335\n",
            "Epoch 14/100\n",
            "32/35 [==========================>...] - ETA: 0s - loss: 0.0017 - mae: 0.0393\n",
            "Epoch 14: val_mae improved from 0.03346 to 0.03282, saving model to model/my_checkpoint.ckpt\n",
            "35/35 [==============================] - 1s 16ms/step - loss: 0.0017 - mae: 0.0397 - val_loss: 9.4887e-04 - val_mae: 0.0328\n",
            "Epoch 15/100\n",
            "32/35 [==========================>...] - ETA: 0s - loss: 0.0017 - mae: 0.0383\n",
            "Epoch 15: val_mae improved from 0.03282 to 0.03225, saving model to model/my_checkpoint.ckpt\n",
            "35/35 [==============================] - 1s 15ms/step - loss: 0.0017 - mae: 0.0388 - val_loss: 9.2469e-04 - val_mae: 0.0323\n",
            "Epoch 16/100\n",
            "34/35 [============================>.] - ETA: 0s - loss: 0.0017 - mae: 0.0382\n",
            "Epoch 16: val_mae improved from 0.03225 to 0.03174, saving model to model/my_checkpoint.ckpt\n",
            "35/35 [==============================] - 1s 16ms/step - loss: 0.0016 - mae: 0.0380 - val_loss: 9.0187e-04 - val_mae: 0.0317\n",
            "Epoch 17/100\n",
            "33/35 [===========================>..] - ETA: 0s - loss: 0.0016 - mae: 0.0366\n",
            "Epoch 17: val_mae improved from 0.03174 to 0.03128, saving model to model/my_checkpoint.ckpt\n",
            "35/35 [==============================] - 1s 15ms/step - loss: 0.0016 - mae: 0.0375 - val_loss: 8.8229e-04 - val_mae: 0.0313\n",
            "Epoch 18/100\n",
            "33/35 [===========================>..] - ETA: 0s - loss: 0.0015 - mae: 0.0361\n",
            "Epoch 18: val_mae improved from 0.03128 to 0.03088, saving model to model/my_checkpoint.ckpt\n",
            "35/35 [==============================] - 1s 15ms/step - loss: 0.0016 - mae: 0.0371 - val_loss: 8.6548e-04 - val_mae: 0.0309\n",
            "Epoch 19/100\n",
            "33/35 [===========================>..] - ETA: 0s - loss: 0.0015 - mae: 0.0358\n",
            "Epoch 19: val_mae improved from 0.03088 to 0.03052, saving model to model/my_checkpoint.ckpt\n",
            "35/35 [==============================] - 1s 24ms/step - loss: 0.0016 - mae: 0.0368 - val_loss: 8.5131e-04 - val_mae: 0.0305\n",
            "Epoch 20/100\n",
            "33/35 [===========================>..] - ETA: 0s - loss: 0.0015 - mae: 0.0355\n",
            "Epoch 20: val_mae improved from 0.03052 to 0.03021, saving model to model/my_checkpoint.ckpt\n",
            "35/35 [==============================] - 1s 15ms/step - loss: 0.0016 - mae: 0.0365 - val_loss: 8.3901e-04 - val_mae: 0.0302\n",
            "Epoch 21/100\n",
            "35/35 [==============================] - ETA: 0s - loss: 0.0016 - mae: 0.0363\n",
            "Epoch 21: val_mae improved from 0.03021 to 0.02993, saving model to model/my_checkpoint.ckpt\n",
            "35/35 [==============================] - 1s 15ms/step - loss: 0.0016 - mae: 0.0363 - val_loss: 8.2787e-04 - val_mae: 0.0299\n",
            "Epoch 22/100\n",
            "35/35 [==============================] - ETA: 0s - loss: 0.0015 - mae: 0.0361\n",
            "Epoch 22: val_mae improved from 0.02993 to 0.02968, saving model to model/my_checkpoint.ckpt\n",
            "35/35 [==============================] - 1s 18ms/step - loss: 0.0015 - mae: 0.0361 - val_loss: 8.1807e-04 - val_mae: 0.0297\n",
            "Epoch 23/100\n",
            "31/35 [=========================>....] - ETA: 0s - loss: 0.0016 - mae: 0.0360\n",
            "Epoch 23: val_mae improved from 0.02968 to 0.02946, saving model to model/my_checkpoint.ckpt\n",
            "35/35 [==============================] - 1s 15ms/step - loss: 0.0015 - mae: 0.0359 - val_loss: 8.0926e-04 - val_mae: 0.0295\n",
            "Epoch 24/100\n",
            "33/35 [===========================>..] - ETA: 0s - loss: 0.0015 - mae: 0.0346\n",
            "Epoch 24: val_mae improved from 0.02946 to 0.02927, saving model to model/my_checkpoint.ckpt\n",
            "35/35 [==============================] - 1s 15ms/step - loss: 0.0015 - mae: 0.0357 - val_loss: 8.0142e-04 - val_mae: 0.0293\n",
            "Epoch 25/100\n",
            "33/35 [===========================>..] - ETA: 0s - loss: 0.0015 - mae: 0.0344\n",
            "Epoch 25: val_mae improved from 0.02927 to 0.02909, saving model to model/my_checkpoint.ckpt\n",
            "35/35 [==============================] - 1s 15ms/step - loss: 0.0015 - mae: 0.0355 - val_loss: 7.9421e-04 - val_mae: 0.0291\n",
            "Epoch 26/100\n",
            "34/35 [============================>.] - ETA: 0s - loss: 0.0015 - mae: 0.0354\n",
            "Epoch 26: val_mae improved from 0.02909 to 0.02891, saving model to model/my_checkpoint.ckpt\n",
            "35/35 [==============================] - 1s 15ms/step - loss: 0.0015 - mae: 0.0353 - val_loss: 7.8688e-04 - val_mae: 0.0289\n",
            "Epoch 27/100\n",
            "34/35 [============================>.] - ETA: 0s - loss: 0.0015 - mae: 0.0352\n",
            "Epoch 27: val_mae improved from 0.02891 to 0.02873, saving model to model/my_checkpoint.ckpt\n",
            "35/35 [==============================] - 1s 15ms/step - loss: 0.0015 - mae: 0.0352 - val_loss: 7.7971e-04 - val_mae: 0.0287\n",
            "Epoch 28/100\n",
            "35/35 [==============================] - ETA: 0s - loss: 0.0015 - mae: 0.0350\n",
            "Epoch 28: val_mae improved from 0.02873 to 0.02859, saving model to model/my_checkpoint.ckpt\n",
            "35/35 [==============================] - 1s 15ms/step - loss: 0.0015 - mae: 0.0350 - val_loss: 7.7367e-04 - val_mae: 0.0286\n",
            "Epoch 29/100\n",
            "32/35 [==========================>...] - ETA: 0s - loss: 0.0015 - mae: 0.0342\n",
            "Epoch 29: val_mae improved from 0.02859 to 0.02846, saving model to model/my_checkpoint.ckpt\n",
            "35/35 [==============================] - 1s 15ms/step - loss: 0.0015 - mae: 0.0349 - val_loss: 7.6801e-04 - val_mae: 0.0285\n",
            "Epoch 30/100\n",
            "32/35 [==========================>...] - ETA: 0s - loss: 0.0015 - mae: 0.0340\n",
            "Epoch 30: val_mae improved from 0.02846 to 0.02833, saving model to model/my_checkpoint.ckpt\n",
            "35/35 [==============================] - 1s 15ms/step - loss: 0.0015 - mae: 0.0347 - val_loss: 7.6258e-04 - val_mae: 0.0283\n",
            "Epoch 31/100\n",
            "31/35 [=========================>....] - ETA: 0s - loss: 0.0015 - mae: 0.0345\n",
            "Epoch 31: val_mae improved from 0.02833 to 0.02822, saving model to model/my_checkpoint.ckpt\n",
            "35/35 [==============================] - 1s 15ms/step - loss: 0.0015 - mae: 0.0345 - val_loss: 7.5739e-04 - val_mae: 0.0282\n",
            "Epoch 32/100\n",
            "34/35 [============================>.] - ETA: 0s - loss: 0.0015 - mae: 0.0343\n",
            "Epoch 32: val_mae improved from 0.02822 to 0.02811, saving model to model/my_checkpoint.ckpt\n",
            "35/35 [==============================] - 1s 15ms/step - loss: 0.0015 - mae: 0.0344 - val_loss: 7.5239e-04 - val_mae: 0.0281\n",
            "Epoch 33/100\n",
            "32/35 [==========================>...] - ETA: 0s - loss: 0.0014 - mae: 0.0335\n",
            "Epoch 33: val_mae improved from 0.02811 to 0.02802, saving model to model/my_checkpoint.ckpt\n",
            "35/35 [==============================] - 1s 15ms/step - loss: 0.0014 - mae: 0.0343 - val_loss: 7.4776e-04 - val_mae: 0.0280\n",
            "Epoch 34/100\n",
            "31/35 [=========================>....] - ETA: 0s - loss: 0.0015 - mae: 0.0340\n",
            "Epoch 34: val_mae improved from 0.02802 to 0.02794, saving model to model/my_checkpoint.ckpt\n",
            "35/35 [==============================] - 1s 15ms/step - loss: 0.0014 - mae: 0.0341 - val_loss: 7.4354e-04 - val_mae: 0.0279\n",
            "Epoch 35/100\n",
            "33/35 [===========================>..] - ETA: 0s - loss: 0.0014 - mae: 0.0327\n",
            "Epoch 35: val_mae improved from 0.02794 to 0.02786, saving model to model/my_checkpoint.ckpt\n",
            "35/35 [==============================] - 1s 15ms/step - loss: 0.0014 - mae: 0.0340 - val_loss: 7.3989e-04 - val_mae: 0.0279\n",
            "Epoch 36/100\n",
            "33/35 [===========================>..] - ETA: 0s - loss: 0.0014 - mae: 0.0325\n",
            "Epoch 36: val_mae improved from 0.02786 to 0.02780, saving model to model/my_checkpoint.ckpt\n",
            "35/35 [==============================] - 1s 25ms/step - loss: 0.0014 - mae: 0.0338 - val_loss: 7.3657e-04 - val_mae: 0.0278\n",
            "Epoch 37/100\n",
            "32/35 [==========================>...] - ETA: 0s - loss: 0.0014 - mae: 0.0329\n",
            "Epoch 37: val_mae improved from 0.02780 to 0.02775, saving model to model/my_checkpoint.ckpt\n",
            "35/35 [==============================] - 1s 22ms/step - loss: 0.0014 - mae: 0.0337 - val_loss: 7.3372e-04 - val_mae: 0.0277\n",
            "Epoch 38/100\n",
            "31/35 [=========================>....] - ETA: 0s - loss: 0.0014 - mae: 0.0333\n",
            "Epoch 38: val_mae improved from 0.02775 to 0.02770, saving model to model/my_checkpoint.ckpt\n",
            "35/35 [==============================] - 1s 15ms/step - loss: 0.0014 - mae: 0.0336 - val_loss: 7.3116e-04 - val_mae: 0.0277\n",
            "Epoch 39/100\n",
            "34/35 [============================>.] - ETA: 0s - loss: 0.0014 - mae: 0.0333\n",
            "Epoch 39: val_mae improved from 0.02770 to 0.02766, saving model to model/my_checkpoint.ckpt\n",
            "35/35 [==============================] - 1s 16ms/step - loss: 0.0014 - mae: 0.0335 - val_loss: 7.2873e-04 - val_mae: 0.0277\n",
            "Epoch 40/100\n",
            "31/35 [=========================>....] - ETA: 0s - loss: 0.0014 - mae: 0.0331\n",
            "Epoch 40: val_mae improved from 0.02766 to 0.02763, saving model to model/my_checkpoint.ckpt\n",
            "35/35 [==============================] - 1s 15ms/step - loss: 0.0014 - mae: 0.0333 - val_loss: 7.2659e-04 - val_mae: 0.0276\n",
            "Epoch 41/100\n",
            "33/35 [===========================>..] - ETA: 0s - loss: 0.0013 - mae: 0.0318\n",
            "Epoch 41: val_mae improved from 0.02763 to 0.02760, saving model to model/my_checkpoint.ckpt\n",
            "35/35 [==============================] - 1s 15ms/step - loss: 0.0014 - mae: 0.0332 - val_loss: 7.2469e-04 - val_mae: 0.0276\n",
            "Epoch 42/100\n",
            "34/35 [============================>.] - ETA: 0s - loss: 0.0014 - mae: 0.0329\n",
            "Epoch 42: val_mae improved from 0.02760 to 0.02758, saving model to model/my_checkpoint.ckpt\n",
            "35/35 [==============================] - 1s 15ms/step - loss: 0.0014 - mae: 0.0331 - val_loss: 7.2292e-04 - val_mae: 0.0276\n",
            "Epoch 43/100\n",
            "32/35 [==========================>...] - ETA: 0s - loss: 0.0014 - mae: 0.0321\n",
            "Epoch 43: val_mae improved from 0.02758 to 0.02756, saving model to model/my_checkpoint.ckpt\n",
            "35/35 [==============================] - 1s 15ms/step - loss: 0.0014 - mae: 0.0330 - val_loss: 7.2130e-04 - val_mae: 0.0276\n",
            "Epoch 44/100\n",
            "33/35 [===========================>..] - ETA: 0s - loss: 0.0013 - mae: 0.0315\n",
            "Epoch 44: val_mae improved from 0.02756 to 0.02754, saving model to model/my_checkpoint.ckpt\n",
            "35/35 [==============================] - 1s 15ms/step - loss: 0.0014 - mae: 0.0329 - val_loss: 7.1981e-04 - val_mae: 0.0275\n",
            "Epoch 45/100\n",
            "32/35 [==========================>...] - ETA: 0s - loss: 0.0014 - mae: 0.0319\n",
            "Epoch 45: val_mae improved from 0.02754 to 0.02753, saving model to model/my_checkpoint.ckpt\n",
            "35/35 [==============================] - 1s 16ms/step - loss: 0.0014 - mae: 0.0328 - val_loss: 7.1849e-04 - val_mae: 0.0275\n",
            "Epoch 46/100\n",
            "35/35 [==============================] - ETA: 0s - loss: 0.0014 - mae: 0.0327\n",
            "Epoch 46: val_mae improved from 0.02753 to 0.02752, saving model to model/my_checkpoint.ckpt\n",
            "35/35 [==============================] - 1s 16ms/step - loss: 0.0014 - mae: 0.0327 - val_loss: 7.1728e-04 - val_mae: 0.0275\n",
            "Epoch 47/100\n",
            "35/35 [==============================] - ETA: 0s - loss: 0.0014 - mae: 0.0326\n",
            "Epoch 47: val_mae improved from 0.02752 to 0.02752, saving model to model/my_checkpoint.ckpt\n",
            "35/35 [==============================] - 1s 16ms/step - loss: 0.0014 - mae: 0.0326 - val_loss: 7.1620e-04 - val_mae: 0.0275\n",
            "Epoch 48/100\n",
            "31/35 [=========================>....] - ETA: 0s - loss: 0.0014 - mae: 0.0321\n",
            "Epoch 48: val_mae improved from 0.02752 to 0.02752, saving model to model/my_checkpoint.ckpt\n",
            "35/35 [==============================] - 1s 14ms/step - loss: 0.0014 - mae: 0.0325 - val_loss: 7.1523e-04 - val_mae: 0.0275\n",
            "Epoch 49/100\n",
            "33/35 [===========================>..] - ETA: 0s - loss: 0.0013 - mae: 0.0309\n",
            "Epoch 49: val_mae did not improve from 0.02752\n",
            "35/35 [==============================] - 1s 14ms/step - loss: 0.0014 - mae: 0.0324 - val_loss: 7.1437e-04 - val_mae: 0.0275\n",
            "Epoch 50/100\n",
            "34/35 [============================>.] - ETA: 0s - loss: 0.0014 - mae: 0.0321\n",
            "Epoch 50: val_mae did not improve from 0.02752\n",
            "35/35 [==============================] - 1s 14ms/step - loss: 0.0014 - mae: 0.0324 - val_loss: 7.1358e-04 - val_mae: 0.0275\n",
            "Epoch 51/100\n",
            "33/35 [===========================>..] - ETA: 0s - loss: 0.0013 - mae: 0.0308\n",
            "Epoch 51: val_mae did not improve from 0.02752\n",
            "35/35 [==============================] - 1s 14ms/step - loss: 0.0014 - mae: 0.0323 - val_loss: 7.1286e-04 - val_mae: 0.0275\n",
            "Epoch 52/100\n",
            "33/35 [===========================>..] - ETA: 0s - loss: 0.0013 - mae: 0.0307\n",
            "Epoch 52: val_mae did not improve from 0.02752\n",
            "35/35 [==============================] - 1s 15ms/step - loss: 0.0014 - mae: 0.0322 - val_loss: 7.1236e-04 - val_mae: 0.0275\n",
            "Epoch 53/100\n",
            "35/35 [==============================] - ETA: 0s - loss: 0.0014 - mae: 0.0321\n",
            "Epoch 53: val_mae did not improve from 0.02752\n",
            "35/35 [==============================] - 1s 14ms/step - loss: 0.0014 - mae: 0.0321 - val_loss: 7.1195e-04 - val_mae: 0.0275\n",
            "Epoch 54/100\n",
            "34/35 [============================>.] - ETA: 0s - loss: 0.0013 - mae: 0.0317\n",
            "Epoch 54: val_mae did not improve from 0.02752\n",
            "35/35 [==============================] - 1s 26ms/step - loss: 0.0013 - mae: 0.0321 - val_loss: 7.1156e-04 - val_mae: 0.0276\n",
            "Epoch 55/100\n",
            "31/35 [=========================>....] - ETA: 0s - loss: 0.0013 - mae: 0.0314\n",
            "Epoch 55: val_mae did not improve from 0.02752\n",
            "35/35 [==============================] - 1s 20ms/step - loss: 0.0013 - mae: 0.0320 - val_loss: 7.1123e-04 - val_mae: 0.0276\n",
            "Epoch 56/100\n",
            "30/35 [========================>.....] - ETA: 0s - loss: 0.0014 - mae: 0.0317\n",
            "Epoch 56: val_mae did not improve from 0.02752\n",
            "35/35 [==============================] - 1s 14ms/step - loss: 0.0013 - mae: 0.0319 - val_loss: 7.1093e-04 - val_mae: 0.0276\n",
            "Epoch 57/100\n",
            "35/35 [==============================] - ETA: 0s - loss: 0.0013 - mae: 0.0319\n",
            "Epoch 57: val_mae did not improve from 0.02752\n",
            "35/35 [==============================] - 1s 14ms/step - loss: 0.0013 - mae: 0.0319 - val_loss: 7.1069e-04 - val_mae: 0.0276\n",
            "Epoch 58/100\n",
            "31/35 [=========================>....] - ETA: 0s - loss: 0.0013 - mae: 0.0312\n",
            "Epoch 58: val_mae did not improve from 0.02752\n",
            "35/35 [==============================] - 1s 14ms/step - loss: 0.0013 - mae: 0.0318 - val_loss: 7.1046e-04 - val_mae: 0.0276\n",
            "Epoch 59/100\n",
            "34/35 [============================>.] - ETA: 0s - loss: 0.0013 - mae: 0.0313\n",
            "Epoch 59: val_mae did not improve from 0.02752\n",
            "35/35 [==============================] - 1s 15ms/step - loss: 0.0013 - mae: 0.0317 - val_loss: 7.1030e-04 - val_mae: 0.0276\n",
            "Epoch 60/100\n",
            "34/35 [============================>.] - ETA: 0s - loss: 0.0013 - mae: 0.0313\n",
            "Epoch 60: val_mae did not improve from 0.02752\n",
            "35/35 [==============================] - 1s 14ms/step - loss: 0.0013 - mae: 0.0317 - val_loss: 7.1011e-04 - val_mae: 0.0277\n",
            "Epoch 61/100\n",
            "33/35 [===========================>..] - ETA: 0s - loss: 0.0013 - mae: 0.0300\n",
            "Epoch 61: val_mae did not improve from 0.02752\n",
            "35/35 [==============================] - 1s 14ms/step - loss: 0.0013 - mae: 0.0316 - val_loss: 7.0998e-04 - val_mae: 0.0277\n",
            "Epoch 62/100\n",
            "32/35 [==========================>...] - ETA: 0s - loss: 0.0013 - mae: 0.0304\n",
            "Epoch 62: val_mae did not improve from 0.02752\n",
            "35/35 [==============================] - 1s 14ms/step - loss: 0.0013 - mae: 0.0316 - val_loss: 7.0983e-04 - val_mae: 0.0277\n",
            "Epoch 63/100\n",
            "35/35 [==============================] - ETA: 0s - loss: 0.0013 - mae: 0.0315\n",
            "Epoch 63: val_mae did not improve from 0.02752\n",
            "35/35 [==============================] - 1s 15ms/step - loss: 0.0013 - mae: 0.0315 - val_loss: 7.0977e-04 - val_mae: 0.0277\n",
            "Epoch 64/100\n",
            "33/35 [===========================>..] - ETA: 0s - loss: 0.0012 - mae: 0.0298\n",
            "Epoch 64: val_mae did not improve from 0.02752\n",
            "35/35 [==============================] - 1s 14ms/step - loss: 0.0013 - mae: 0.0315 - val_loss: 7.0973e-04 - val_mae: 0.0277\n",
            "Epoch 65/100\n",
            "34/35 [============================>.] - ETA: 0s - loss: 0.0013 - mae: 0.0310\n",
            "Epoch 65: val_mae did not improve from 0.02752\n",
            "35/35 [==============================] - 1s 14ms/step - loss: 0.0013 - mae: 0.0314 - val_loss: 7.0970e-04 - val_mae: 0.0278\n",
            "Epoch 66/100\n",
            "33/35 [===========================>..] - ETA: 0s - loss: 0.0012 - mae: 0.0297\n",
            "Epoch 66: val_mae did not improve from 0.02752\n",
            "35/35 [==============================] - 1s 15ms/step - loss: 0.0013 - mae: 0.0314 - val_loss: 7.0969e-04 - val_mae: 0.0278\n",
            "Epoch 67/100\n",
            "33/35 [===========================>..] - ETA: 0s - loss: 0.0012 - mae: 0.0297\n",
            "Epoch 67: val_mae did not improve from 0.02752\n",
            "35/35 [==============================] - 1s 14ms/step - loss: 0.0013 - mae: 0.0313 - val_loss: 7.0962e-04 - val_mae: 0.0278\n",
            "Epoch 68/100\n",
            "31/35 [=========================>....] - ETA: 0s - loss: 0.0013 - mae: 0.0306\n",
            "Epoch 68: val_mae did not improve from 0.02752\n",
            "35/35 [==============================] - 1s 15ms/step - loss: 0.0013 - mae: 0.0313 - val_loss: 7.0957e-04 - val_mae: 0.0278\n",
            "Epoch 69/100\n",
            "33/35 [===========================>..] - ETA: 0s - loss: 0.0012 - mae: 0.0296\n",
            "Epoch 69: val_mae did not improve from 0.02752\n",
            "35/35 [==============================] - 1s 14ms/step - loss: 0.0013 - mae: 0.0313 - val_loss: 7.0949e-04 - val_mae: 0.0278\n",
            "Epoch 70/100\n",
            "31/35 [=========================>....] - ETA: 0s - loss: 0.0013 - mae: 0.0305\n",
            "Epoch 70: val_mae did not improve from 0.02752\n",
            "35/35 [==============================] - 1s 15ms/step - loss: 0.0013 - mae: 0.0312 - val_loss: 7.0942e-04 - val_mae: 0.0278\n",
            "Epoch 71/100\n",
            "34/35 [============================>.] - ETA: 0s - loss: 0.0013 - mae: 0.0307\n",
            "Epoch 71: val_mae did not improve from 0.02752\n",
            "35/35 [==============================] - 1s 15ms/step - loss: 0.0013 - mae: 0.0312 - val_loss: 7.0939e-04 - val_mae: 0.0279\n",
            "Epoch 72/100\n",
            "34/35 [============================>.] - ETA: 0s - loss: 0.0013 - mae: 0.0307\n",
            "Epoch 72: val_mae did not improve from 0.02752\n",
            "35/35 [==============================] - 1s 25ms/step - loss: 0.0013 - mae: 0.0312 - val_loss: 7.0930e-04 - val_mae: 0.0279\n",
            "Epoch 73/100\n",
            "35/35 [==============================] - ETA: 0s - loss: 0.0013 - mae: 0.0311\n",
            "Epoch 73: val_mae did not improve from 0.02752\n",
            "35/35 [==============================] - 0s 14ms/step - loss: 0.0013 - mae: 0.0311 - val_loss: 7.0921e-04 - val_mae: 0.0279\n",
            "Epoch 74/100\n",
            "35/35 [==============================] - ETA: 0s - loss: 0.0013 - mae: 0.0311\n",
            "Epoch 74: val_mae did not improve from 0.02752\n",
            "35/35 [==============================] - 1s 15ms/step - loss: 0.0013 - mae: 0.0311 - val_loss: 7.0911e-04 - val_mae: 0.0279\n",
            "Epoch 75/100\n",
            "32/35 [==========================>...] - ETA: 0s - loss: 0.0012 - mae: 0.0298\n",
            "Epoch 75: val_mae did not improve from 0.02752\n",
            "35/35 [==============================] - 1s 14ms/step - loss: 0.0013 - mae: 0.0310 - val_loss: 7.0900e-04 - val_mae: 0.0279\n",
            "Epoch 76/100\n",
            "35/35 [==============================] - ETA: 0s - loss: 0.0013 - mae: 0.0310\n",
            "Epoch 76: val_mae did not improve from 0.02752\n",
            "35/35 [==============================] - 1s 14ms/step - loss: 0.0013 - mae: 0.0310 - val_loss: 7.0886e-04 - val_mae: 0.0279\n",
            "Epoch 77/100\n",
            "35/35 [==============================] - ETA: 0s - loss: 0.0013 - mae: 0.0310\n",
            "Epoch 77: val_mae did not improve from 0.02752\n",
            "35/35 [==============================] - 1s 15ms/step - loss: 0.0013 - mae: 0.0310 - val_loss: 7.0873e-04 - val_mae: 0.0279\n",
            "Epoch 78/100\n",
            "31/35 [=========================>....] - ETA: 0s - loss: 0.0013 - mae: 0.0302\n",
            "Epoch 78: val_mae did not improve from 0.02752\n",
            "35/35 [==============================] - 1s 14ms/step - loss: 0.0013 - mae: 0.0309 - val_loss: 7.0853e-04 - val_mae: 0.0279\n",
            "Epoch 79/100\n",
            "33/35 [===========================>..] - ETA: 0s - loss: 0.0012 - mae: 0.0292\n",
            "Epoch 79: val_mae did not improve from 0.02752\n",
            "35/35 [==============================] - 1s 15ms/step - loss: 0.0013 - mae: 0.0309 - val_loss: 7.0832e-04 - val_mae: 0.0279\n",
            "Epoch 80/100\n",
            "35/35 [==============================] - ETA: 0s - loss: 0.0013 - mae: 0.0309\n",
            "Epoch 80: val_mae did not improve from 0.02752\n",
            "35/35 [==============================] - 1s 15ms/step - loss: 0.0013 - mae: 0.0309 - val_loss: 7.0811e-04 - val_mae: 0.0280\n",
            "Epoch 81/100\n",
            "31/35 [=========================>....] - ETA: 0s - loss: 0.0013 - mae: 0.0300\n",
            "Epoch 81: val_mae did not improve from 0.02752\n",
            "35/35 [==============================] - 1s 15ms/step - loss: 0.0013 - mae: 0.0309 - val_loss: 7.0783e-04 - val_mae: 0.0280\n",
            "Epoch 82/100\n",
            "32/35 [==========================>...] - ETA: 0s - loss: 0.0012 - mae: 0.0296\n",
            "Epoch 82: val_mae did not improve from 0.02752\n",
            "35/35 [==============================] - 1s 15ms/step - loss: 0.0013 - mae: 0.0308 - val_loss: 7.0773e-04 - val_mae: 0.0280\n",
            "Epoch 83/100\n",
            "31/35 [=========================>....] - ETA: 0s - loss: 0.0013 - mae: 0.0300\n",
            "Epoch 83: val_mae did not improve from 0.02752\n",
            "35/35 [==============================] - 1s 15ms/step - loss: 0.0013 - mae: 0.0308 - val_loss: 7.0774e-04 - val_mae: 0.0280\n",
            "Epoch 84/100\n",
            "32/35 [==========================>...] - ETA: 0s - loss: 0.0012 - mae: 0.0295\n",
            "Epoch 84: val_mae did not improve from 0.02752\n",
            "35/35 [==============================] - 1s 15ms/step - loss: 0.0013 - mae: 0.0308 - val_loss: 7.0774e-04 - val_mae: 0.0280\n",
            "Epoch 85/100\n",
            "34/35 [============================>.] - ETA: 0s - loss: 0.0013 - mae: 0.0302\n",
            "Epoch 85: val_mae did not improve from 0.02752\n",
            "35/35 [==============================] - 0s 14ms/step - loss: 0.0013 - mae: 0.0307 - val_loss: 7.0815e-04 - val_mae: 0.0280\n",
            "Epoch 86/100\n",
            "35/35 [==============================] - ETA: 0s - loss: 0.0013 - mae: 0.0307\n",
            "Epoch 86: val_mae did not improve from 0.02752\n",
            "35/35 [==============================] - 1s 15ms/step - loss: 0.0013 - mae: 0.0307 - val_loss: 7.0831e-04 - val_mae: 0.0280\n",
            "Epoch 87/100\n",
            "33/35 [===========================>..] - ETA: 0s - loss: 0.0012 - mae: 0.0289\n",
            "Epoch 87: val_mae did not improve from 0.02752\n",
            "35/35 [==============================] - 1s 15ms/step - loss: 0.0013 - mae: 0.0307 - val_loss: 7.0801e-04 - val_mae: 0.0280\n",
            "Epoch 88/100\n",
            "35/35 [==============================] - ETA: 0s - loss: 0.0013 - mae: 0.0306\n",
            "Epoch 88: val_mae did not improve from 0.02752\n",
            "35/35 [==============================] - 1s 15ms/step - loss: 0.0013 - mae: 0.0306 - val_loss: 7.0757e-04 - val_mae: 0.0280\n",
            "Epoch 89/100\n",
            "33/35 [===========================>..] - ETA: 0s - loss: 0.0012 - mae: 0.0289\n",
            "Epoch 89: val_mae did not improve from 0.02752\n",
            "35/35 [==============================] - 1s 18ms/step - loss: 0.0013 - mae: 0.0306 - val_loss: 7.0699e-04 - val_mae: 0.0280\n",
            "Epoch 90/100\n",
            "34/35 [============================>.] - ETA: 0s - loss: 0.0012 - mae: 0.0300\n",
            "Epoch 90: val_mae did not improve from 0.02752\n",
            "35/35 [==============================] - 1s 24ms/step - loss: 0.0013 - mae: 0.0306 - val_loss: 7.0640e-04 - val_mae: 0.0280\n",
            "Epoch 91/100\n",
            "34/35 [============================>.] - ETA: 0s - loss: 0.0012 - mae: 0.0300\n",
            "Epoch 91: val_mae did not improve from 0.02752\n",
            "35/35 [==============================] - 1s 14ms/step - loss: 0.0013 - mae: 0.0305 - val_loss: 7.0590e-04 - val_mae: 0.0280\n",
            "Epoch 92/100\n",
            "32/35 [==========================>...] - ETA: 0s - loss: 0.0012 - mae: 0.0292\n",
            "Epoch 92: val_mae did not improve from 0.02752\n",
            "35/35 [==============================] - 1s 15ms/step - loss: 0.0012 - mae: 0.0305 - val_loss: 7.0544e-04 - val_mae: 0.0280\n",
            "Epoch 93/100\n",
            "31/35 [=========================>....] - ETA: 0s - loss: 0.0012 - mae: 0.0296\n",
            "Epoch 93: val_mae did not improve from 0.02752\n",
            "35/35 [==============================] - 1s 15ms/step - loss: 0.0012 - mae: 0.0305 - val_loss: 7.0490e-04 - val_mae: 0.0280\n",
            "Epoch 94/100\n",
            "31/35 [=========================>....] - ETA: 0s - loss: 0.0012 - mae: 0.0296\n",
            "Epoch 94: val_mae did not improve from 0.02752\n",
            "35/35 [==============================] - 1s 15ms/step - loss: 0.0012 - mae: 0.0304 - val_loss: 7.0444e-04 - val_mae: 0.0280\n",
            "Epoch 95/100\n",
            "31/35 [=========================>....] - ETA: 0s - loss: 0.0012 - mae: 0.0295\n",
            "Epoch 95: val_mae did not improve from 0.02752\n",
            "35/35 [==============================] - 1s 15ms/step - loss: 0.0012 - mae: 0.0304 - val_loss: 7.0400e-04 - val_mae: 0.0280\n",
            "Epoch 96/100\n",
            "35/35 [==============================] - ETA: 0s - loss: 0.0012 - mae: 0.0304\n",
            "Epoch 96: val_mae did not improve from 0.02752\n",
            "35/35 [==============================] - 1s 15ms/step - loss: 0.0012 - mae: 0.0304 - val_loss: 7.0350e-04 - val_mae: 0.0280\n",
            "Epoch 97/100\n",
            "35/35 [==============================] - ETA: 0s - loss: 0.0012 - mae: 0.0304\n",
            "Epoch 97: val_mae did not improve from 0.02752\n",
            "35/35 [==============================] - 1s 15ms/step - loss: 0.0012 - mae: 0.0304 - val_loss: 7.0301e-04 - val_mae: 0.0280\n",
            "Epoch 98/100\n",
            "33/35 [===========================>..] - ETA: 0s - loss: 0.0012 - mae: 0.0286\n",
            "Epoch 98: val_mae did not improve from 0.02752\n",
            "35/35 [==============================] - 1s 14ms/step - loss: 0.0012 - mae: 0.0303 - val_loss: 7.0244e-04 - val_mae: 0.0280\n",
            "Epoch 99/100\n",
            "35/35 [==============================] - ETA: 0s - loss: 0.0012 - mae: 0.0303\n",
            "Epoch 99: val_mae did not improve from 0.02752\n",
            "35/35 [==============================] - 1s 16ms/step - loss: 0.0012 - mae: 0.0303 - val_loss: 7.0196e-04 - val_mae: 0.0280\n",
            "Epoch 100/100\n",
            "32/35 [==========================>...] - ETA: 0s - loss: 0.0012 - mae: 0.0290\n",
            "Epoch 100: val_mae did not improve from 0.02752\n",
            "35/35 [==============================] - 1s 15ms/step - loss: 0.0012 - mae: 0.0303 - val_loss: 7.0147e-04 - val_mae: 0.0280\n"
          ]
        },
        {
          "output_type": "execute_result",
          "data": {
            "text/plain": [
              "<keras.src.callbacks.History at 0x79e8395d68f0>"
            ]
          },
          "metadata": {},
          "execution_count": 12
        }
      ]
    },
    {
      "cell_type": "markdown",
      "metadata": {
        "id": "f8f6196d"
      },
      "source": [
        "### 가중치 로드"
      ],
      "id": "f8f6196d"
    },
    {
      "cell_type": "code",
      "metadata": {
        "id": "a4e2057a",
        "colab": {
          "base_uri": "https://localhost:8080/"
        },
        "outputId": "f872e3a3-fb41-4777-fbc9-1b55b1d2b642"
      },
      "source": [
        "model.load_weights(checkpoint_path)"
      ],
      "id": "a4e2057a",
      "execution_count": 13,
      "outputs": [
        {
          "output_type": "execute_result",
          "data": {
            "text/plain": [
              "<tensorflow.python.checkpoint.checkpoint.CheckpointLoadStatus at 0x79e8395d4370>"
            ]
          },
          "metadata": {},
          "execution_count": 13
        }
      ]
    }
  ]
}